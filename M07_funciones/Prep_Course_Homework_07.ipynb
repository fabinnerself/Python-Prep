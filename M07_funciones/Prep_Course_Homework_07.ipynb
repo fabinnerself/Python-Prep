{
 "cells": [
  {
   "attachments": {},
   "cell_type": "markdown",
   "metadata": {},
   "source": [
    "## Funciones"
   ]
  },
  {
   "attachments": {},
   "cell_type": "markdown",
   "metadata": {},
   "source": [
    "1) Crear una función que reciba un número como parámetro y devuelva True si es primo y False si no lo es"
   ]
  },
  {
   "cell_type": "code",
   "execution_count": 21,
   "metadata": {},
   "outputs": [
    {
     "name": "stdout",
     "output_type": "stream",
     "text": [
      "True\n",
      "False\n",
      "True\n",
      "True\n",
      "True\n",
      "True\n",
      "True\n"
     ]
    }
   ],
   "source": [
    "def es_numero_primo(numero):\n",
    "  \"\"\"Determina si un número es primo.\n",
    "\n",
    "  Args:\n",
    "    numero: El número a evaluar.\n",
    "\n",
    "  Returns:\n",
    "    True si el número es primo, False si no lo es.\n",
    "  \"\"\"\n",
    "\n",
    "  if numero <= 1:\n",
    "      return False\n",
    "\n",
    "  # Los números primos solo son divisibles por 1 y por sí mismos\n",
    "  for i in range(2, int(numero**0.5) + 1):\n",
    "      if numero % i == 0:\n",
    "          return False\n",
    "\n",
    "  # Si no encontramos ningún divisor, el número es primo\n",
    "  return True\n",
    "\n",
    "print(es_numero_primo(11));  # Imprime true\n",
    "print(es_numero_primo(1));   # Imprime false\n",
    "print(es_numero_primo(2));   # Imprime false\n",
    "print(es_numero_primo(3));   # Imprime false\n",
    "print(es_numero_primo(5));   # Imprime false\n",
    "print(es_numero_primo(37));   # Imprime false\n",
    "print(es_numero_primo(73));   # Imprime false"
   ]
  },
  {
   "attachments": {},
   "cell_type": "markdown",
   "metadata": {},
   "source": [
    "2) Utilizando la función del punto 1, realizar otra función que reciba de parámetro una lista de números y devuelva sólo aquellos que son primos en otra lista"
   ]
  },
  {
   "cell_type": "code",
   "execution_count": 25,
   "metadata": {},
   "outputs": [
    {
     "name": "stdout",
     "output_type": "stream",
     "text": [
      "[2, 3, 5, 7, 11, 13, 17, 19, 37, 73]\n"
     ]
    }
   ],
   "source": [
    "def fn_verif_primos (lst_numeros):\n",
    "    lst_res=[]\n",
    "    for num_v in lst_numeros:\n",
    "        if es_numero_primo(num_v) :\n",
    "            lst_res.append(num_v)\n",
    "    return lst_res\n",
    "\n",
    "print(fn_verif_primos([1,2,3,4,5,6,7,8,9,10,11,12,13,14,15,16,17,18,19,20,37,73]))"
   ]
  },
  {
   "attachments": {},
   "cell_type": "markdown",
   "metadata": {},
   "source": [
    "3) Crear una función que al recibir una lista de números, devuelva el que más se repite y cuántas veces lo hace. Si hay más de un \"más repetido\", que devuelva cualquiera"
   ]
  },
  {
   "cell_type": "code",
   "execution_count": 26,
   "metadata": {},
   "outputs": [
    {
     "name": "stdout",
     "output_type": "stream",
     "text": [
      "(5, 3)\n",
      "Help on function verif_freq in module __main__:\n",
      "\n",
      "verif_freq(lst_num_verif)\n",
      "    Verifica una lista de números, devuelve el que más se repite y cuántas veces lo hace.\n",
      "    Si hay más de un \"más repetido\", devuelve cualquiera.\n",
      "    \n",
      "    Args:\n",
      "        lst_num_verif: La lista de números a verificar\n",
      "    \n",
      "    Returns:\n",
      "        Una tupla con el número que más se repite y cuántas veces\n",
      "\n"
     ]
    }
   ],
   "source": [
    "def verif_freq(lst_num_verif):\n",
    "    \"\"\"Verifica una lista de números, devuelve el que más se repite y cuántas veces lo hace.\n",
    "    Si hay más de un \"más repetido\", devuelve cualquiera.\n",
    "\n",
    "    Args:\n",
    "        lst_num_verif: La lista de números a verificar\n",
    "\n",
    "    Returns:\n",
    "        Una tupla con el número que más se repite y cuántas veces\n",
    "    \"\"\"\n",
    "\n",
    "    conteo = {}\n",
    "    for num in lst_num_verif:\n",
    "        conteo[num] = conteo.get(num, 0) + 1\n",
    "\n",
    "    max_repeticiones = max(conteo.values())\n",
    "    for num, frecuencia in conteo.items():\n",
    "        if frecuencia == max_repeticiones:\n",
    "            return num, frecuencia\n",
    "\n",
    "# Ejemplo de uso:\n",
    "print(verif_freq([1,1,5,6,8,10,22,5,6,4,11,9,5]))\n",
    "help (verif_freq)"
   ]
  },
  {
   "attachments": {},
   "cell_type": "markdown",
   "metadata": {},
   "source": [
    "4) Crear una función que convierta entre grados Celsius, Farenheit y Kelvin<br>\n",
    "Fórmula 1\t: (°C × 9/5) + 32 = °F<br>\n",
    "Fórmula 2\t: °C + 273.15 = °K<br>\n",
    "Debe recibir 3 parámetros: el valor, la medida de orígen y la medida de destino\n"
   ]
  },
  {
   "cell_type": "code",
   "execution_count": 27,
   "metadata": {},
   "outputs": [
    {
     "name": "stdout",
     "output_type": "stream",
     "text": [
      "25 °C son 77.0 °F\n"
     ]
    }
   ],
   "source": [
    "def convertir_temperatura(valor, origen, destino):\n",
    "  \"\"\"Convierte una temperatura entre grados Celsius, Fahrenheit y Kelvin.\n",
    "\n",
    "  Args:\n",
    "    valor: El valor numérico de la temperatura.\n",
    "    origen: La unidad de medida de origen (C, F o K).\n",
    "    destino: La unidad de medida de destino (C, F o K).\n",
    "\n",
    "  Returns:\n",
    "    El valor de la temperatura convertida.\n",
    "  \"\"\"\n",
    "\n",
    "  if origen == 'C' and destino == 'F':\n",
    "    resultado = (valor * 9/5) + 32\n",
    "  elif origen == 'C' and destino == 'K':\n",
    "    resultado = valor + 273.15\n",
    "  elif origen == 'C' and destino == 'C':\n",
    "    resultado = valor    \n",
    "  elif origen == 'F' and destino == 'C':\n",
    "    resultado = (valor - 32) * 5/9\n",
    "  elif origen == 'F' and destino == 'K':\n",
    "    resultado = ((valor - 32) * 5/9) + 273.15\n",
    "  elif origen == 'F' and destino == 'F':\n",
    "    resultado = valor\n",
    "  elif origen == 'K' and destino == 'C':\n",
    "    resultado = valor - 273.15\n",
    "  elif origen == 'K' and destino == 'F':\n",
    "    resultado = (valor - 273.15) * 9/5 + 32\n",
    "  elif origen == 'K' and destino == 'K':\n",
    "    resultado = valor \n",
    "  else:\n",
    "    return \"Unidades de medida no válidas\"\n",
    "\n",
    "  return resultado\n",
    "\n",
    "# Ejemplo de uso:\n",
    "temperatura_celsius = 25\n",
    "resultado_fahrenheit = convertir_temperatura(temperatura_celsius, 'C', 'F')\n",
    "print(f\"{temperatura_celsius} °C son {resultado_fahrenheit} °F\")\n"
   ]
  },
  {
   "attachments": {},
   "cell_type": "markdown",
   "metadata": {},
   "source": [
    "5) Iterando una lista con los tres valores posibles de temperatura que recibe la función del punto 5, hacer un print para cada combinación de los mismos:"
   ]
  },
  {
   "cell_type": "code",
   "execution_count": 28,
   "metadata": {},
   "outputs": [
    {
     "name": "stdout",
     "output_type": "stream",
     "text": [
      "0 C = 0 C\n",
      "0 C = 32.0 F\n",
      "0 C = 273.15 K\n",
      "0 F = -17.77777777777778 C\n",
      "0 F = 0 F\n",
      "0 F = 255.3722222222222 K\n",
      "0 K = -273.15 C\n",
      "0 K = -459.66999999999996 F\n",
      "0 K = 0 K\n",
      "100 C = 100 C\n",
      "100 C = 212.0 F\n",
      "100 C = 373.15 K\n",
      "100 F = 37.77777777777778 C\n",
      "100 F = 100 F\n",
      "100 F = 310.92777777777775 K\n",
      "100 K = -173.14999999999998 C\n",
      "100 K = -279.66999999999996 F\n",
      "100 K = 100 K\n",
      "-40 C = -40 C\n",
      "-40 C = -40.0 F\n",
      "-40 C = 233.14999999999998 K\n",
      "-40 F = -40.0 C\n",
      "-40 F = -40 F\n",
      "-40 F = 233.14999999999998 K\n",
      "-40 K = -313.15 C\n",
      "-40 K = -531.67 F\n",
      "-40 K = -40 K\n"
     ]
    }
   ],
   "source": [
    "# Definimos una lista con valores de ejemplo para cada unidad\n",
    "temperaturas = [0, 100, -40]  # Celsius\n",
    "origenes = ['C', 'F', 'K']\n",
    "destinos = ['C', 'F', 'K']\n",
    "\n",
    "# Iteramos sobre todas las combinaciones posibles\n",
    "for temp in temperaturas:\n",
    "    for orig in origenes:\n",
    "        for dest in destinos:\n",
    "            resultado = convertir_temperatura(temp, orig, dest)\n",
    "            print(f\"{temp} {orig} = {resultado} {dest}\")"
   ]
  },
  {
   "attachments": {},
   "cell_type": "markdown",
   "metadata": {},
   "source": [
    "6) Armar una función que devuelva el factorial de un número. Tener en cuenta que el usuario puede equivocarse y enviar de parámetro un número no entero o negativo"
   ]
  },
  {
   "cell_type": "code",
   "execution_count": 30,
   "metadata": {},
   "outputs": [
    {
     "name": "stdout",
     "output_type": "stream",
     "text": [
      "El factorial de un número negativo no está definido\n",
      "Help on function factorial in module __main__:\n",
      "\n",
      "factorial(numero)\n",
      "    Calcula el factorial de un número.\n",
      "    \n",
      "    Args:\n",
      "        numero: El número del cual se quiere calcular el factorial.\n",
      "    \n",
      "    Returns:\n",
      "        El factorial del número si es no negativo, o un mensaje de error si es negativo.\n",
      "\n",
      "El numero debe ser un entero\n"
     ]
    }
   ],
   "source": [
    "def factorial(numero):\n",
    "    \"\"\"Calcula el factorial de un número.\n",
    "\n",
    "    Args:\n",
    "        numero: El número del cual se quiere calcular el factorial.\n",
    "\n",
    "    Returns:\n",
    "        El factorial del número si es no negativo, o un mensaje de error si es negativo.\n",
    "    \"\"\"\n",
    "    if(type(numero) != int):\n",
    "        return 'El numero debe ser un entero'\n",
    "\n",
    "    if numero < 0:\n",
    "        return \"El factorial de un número negativo no está definido\"\n",
    "    elif numero == 0:\n",
    "        return 1\n",
    "    else:\n",
    "        return numero * factorial(numero - 1)\n",
    "\n",
    "# Ejemplo de uso:\n",
    "resultado = factorial(-5)\n",
    "print(resultado)\n",
    "help(factorial)\n",
    "print(factorial(2.2))"
   ]
  }
 ],
 "metadata": {
  "interpreter": {
   "hash": "c85384e4cb51c8b72350f3a8712cc8351fdc3955e32a27f9b60c6242ab125f01"
  },
  "kernelspec": {
   "display_name": "Python 3 (ipykernel)",
   "language": "python",
   "name": "python3"
  },
  "language_info": {
   "codemirror_mode": {
    "name": "ipython",
    "version": 3
   },
   "file_extension": ".py",
   "mimetype": "text/x-python",
   "name": "python",
   "nbconvert_exporter": "python",
   "pygments_lexer": "ipython3",
   "version": "3.10.12"
  }
 },
 "nbformat": 4,
 "nbformat_minor": 4
}
