{
 "cells": [
  {
   "cell_type": "code",
   "execution_count": 1,
   "metadata": {},
   "outputs": [
    {
     "name": "stdout",
     "output_type": "stream",
     "text": [
      "[10, 20, 30, 40]\n"
     ]
    }
   ],
   "source": [
    "x = [10, 20, 30]\n",
    "def funcion(entrada):\n",
    "    entrada.append(40)\n",
    "funcion(x)\n",
    "print(x)"
   ]
  },
  {
   "cell_type": "code",
   "execution_count": 2,
   "metadata": {},
   "outputs": [
    {
     "name": "stdout",
     "output_type": "stream",
     "text": [
      "140145761190096\n"
     ]
    }
   ],
   "source": [
    "def funcion(entrada):\n",
    "    entrada = 0\n",
    "    print(id(entrada))\n",
    "funcion(x)"
   ]
  },
  {
   "cell_type": "code",
   "execution_count": 3,
   "metadata": {},
   "outputs": [
    {
     "name": "stdout",
     "output_type": "stream",
     "text": [
      "140145657097216\n"
     ]
    }
   ],
   "source": [
    "def funcion(entrada):\n",
    "    entrada.append(40)\n",
    "    print(id(entrada))\n",
    "funcion(x)"
   ]
  },
  {
   "cell_type": "code",
   "execution_count": 4,
   "metadata": {},
   "outputs": [],
   "source": [
    "lambda_producto = lambda x, y: x * y"
   ]
  },
  {
   "cell_type": "code",
   "execution_count": 5,
   "metadata": {},
   "outputs": [
    {
     "data": {
      "text/plain": [
       "12"
      ]
     },
     "execution_count": 5,
     "metadata": {},
     "output_type": "execute_result"
    }
   ],
   "source": [
    "lambda_producto(3, 4)"
   ]
  },
  {
   "cell_type": "code",
   "execution_count": 6,
   "metadata": {},
   "outputs": [
    {
     "name": "stdout",
     "output_type": "stream",
     "text": [
      "10\n"
     ]
    }
   ],
   "source": [
    "x=10\n",
    "def funcion(entrada):\n",
    "    entrada=0\n",
    "funcion(x)\n",
    "print(x)"
   ]
  },
  {
   "cell_type": "code",
   "execution_count": 8,
   "metadata": {},
   "outputs": [
    {
     "name": "stdout",
     "output_type": "stream",
     "text": [
      "[10, 20, 30]\n"
     ]
    }
   ],
   "source": [
    "x = [10, 20, 30]\n",
    "def funcion(entrada):\n",
    "    entrada=[]\n",
    "\n",
    "funcion(x)\n",
    "print(x)"
   ]
  },
  {
   "cell_type": "code",
   "execution_count": 10,
   "metadata": {},
   "outputs": [
    {
     "name": "stdout",
     "output_type": "stream",
     "text": [
      "140145761190416\n"
     ]
    }
   ],
   "source": [
    "x=10\n",
    "print(id(x))"
   ]
  },
  {
   "cell_type": "code",
   "execution_count": 13,
   "metadata": {},
   "outputs": [
    {
     "name": "stdout",
     "output_type": "stream",
     "text": [
      "140145761190416\n",
      "10\n"
     ]
    }
   ],
   "source": [
    "def funcion1(entrada):\n",
    "    entrada=0\n",
    "    print(id(x))\n",
    "\n",
    "funcion1(x)\n",
    "print(x)"
   ]
  },
  {
   "cell_type": "code",
   "execution_count": 14,
   "metadata": {},
   "outputs": [
    {
     "name": "stdout",
     "output_type": "stream",
     "text": [
      "140145657395136\n",
      "[10, 20, 30, 40]\n"
     ]
    }
   ],
   "source": [
    "y = [10, 20, 30]\n",
    "def funcion2(entrada):\n",
    "    entrada.append(40)\n",
    "    print(id(entrada))\n",
    "\n",
    "funcion2(y)\n",
    "print(y)"
   ]
  },
  {
   "cell_type": "code",
   "execution_count": 15,
   "metadata": {},
   "outputs": [
    {
     "name": "stdout",
     "output_type": "stream",
     "text": [
      "1\n",
      "5\n"
     ]
    }
   ],
   "source": [
    "x=1\n",
    "y=x\n",
    "y=5\n",
    "print(x)\n",
    "print(y)"
   ]
  },
  {
   "cell_type": "code",
   "execution_count": 17,
   "metadata": {},
   "outputs": [
    {
     "name": "stdout",
     "output_type": "stream",
     "text": [
      "[1, 2, 3] [1, 2, 3]\n",
      "140145655557632\n",
      "140145655557632\n"
     ]
    }
   ],
   "source": [
    "x=[1,2]\n",
    "y=x\n",
    "y.append(3)\n",
    "\n",
    "print(x,y)\n",
    "\n",
    "print(id(x))\n",
    "print(id(y))"
   ]
  },
  {
   "cell_type": "code",
   "execution_count": 18,
   "metadata": {},
   "outputs": [
    {
     "name": "stdout",
     "output_type": "stream",
     "text": [
      "[1, 2] [1, 2, 3]\n",
      "140145657386624\n",
      "140145656825600\n"
     ]
    }
   ],
   "source": [
    "x=[1,2]\n",
    "y=x.copy()\n",
    "y.append(3)\n",
    "\n",
    "print(x,y)\n",
    "\n",
    "print(id(x))\n",
    "print(id(y))"
   ]
  },
  {
   "cell_type": "code",
   "execution_count": null,
   "metadata": {},
   "outputs": [],
   "source": [
    "# lambda\n"
   ]
  }
 ],
 "metadata": {
  "kernelspec": {
   "display_name": "Python 3",
   "language": "python",
   "name": "python3"
  },
  "language_info": {
   "codemirror_mode": {
    "name": "ipython",
    "version": 3
   },
   "file_extension": ".py",
   "mimetype": "text/x-python",
   "name": "python",
   "nbconvert_exporter": "python",
   "pygments_lexer": "ipython3",
   "version": "3.10.12"
  }
 },
 "nbformat": 4,
 "nbformat_minor": 2
}
