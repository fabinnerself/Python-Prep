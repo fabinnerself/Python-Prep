{
 "cells": [
  {
   "cell_type": "code",
   "execution_count": 1,
   "metadata": {},
   "outputs": [
    {
     "name": "stdout",
     "output_type": "stream",
     "text": [
      "6\n"
     ]
    }
   ],
   "source": [
    "def calcular_area_rectangulo(base, altura):\n",
    "    area = base * altura\n",
    "    return area\n",
    "\n",
    "print(calcular_area_rectangulo(2,3))"
   ]
  },
  {
   "cell_type": "code",
   "execution_count": 4,
   "metadata": {},
   "outputs": [
    {
     "name": "stdout",
     "output_type": "stream",
     "text": [
      "Hola, Favian\n"
     ]
    }
   ],
   "source": [
    "def saludar(nombre, saludo=\"Hola\"):\n",
    "    print(saludo + \", \" + nombre)\n",
    "\n",
    "saludar (\"Favian\")"
   ]
  },
  {
   "cell_type": "code",
   "execution_count": 6,
   "metadata": {},
   "outputs": [
    {
     "name": "stdout",
     "output_type": "stream",
     "text": [
      "¡Hola, mundo!\n"
     ]
    }
   ],
   "source": [
    "def imprimir_mensaje():\n",
    "    print(\"¡Hola, mundo!\")\n",
    "\n",
    "imprimir_mensaje()"
   ]
  },
  {
   "cell_type": "code",
   "execution_count": 7,
   "metadata": {},
   "outputs": [
    {
     "name": "stdout",
     "output_type": "stream",
     "text": [
      "4\n"
     ]
    }
   ],
   "source": [
    "def sumar(sumando1, sumando2):\n",
    "    resultado = sumando1 + sumando2\n",
    "    return resultado\n",
    "\n",
    "print(sumar(2,2))"
   ]
  },
  {
   "cell_type": "code",
   "execution_count": 4,
   "metadata": {},
   "outputs": [
    {
     "name": "stdout",
     "output_type": "stream",
     "text": [
      "Cociente 3  resto  2\n"
     ]
    }
   ],
   "source": [
    "\n",
    "def dividir(dividendo, divisor=1):\n",
    "    if divisor==0:\n",
    "        print(\"No se puede dividir entre 0\")\n",
    "    else:\n",
    "        cociente = dividendo// divisor\n",
    "        resto = dividendo % divisor\n",
    "        return cociente, resto\n",
    "    \n",
    "cociente, resto = dividir(17, 5)\n",
    "\n",
    "print(\"Cociente\",cociente, \" resto \",resto)"
   ]
  },
  {
   "cell_type": "code",
   "execution_count": 3,
   "metadata": {},
   "outputs": [
    {
     "data": {
      "text/plain": [
       "(20, 30)"
      ]
     },
     "execution_count": 3,
     "metadata": {},
     "output_type": "execute_result"
    }
   ],
   "source": [
    "def ordernar_num(num1=1,num2=2):\n",
    "    if num1<num2:\n",
    "        return num1,num2\n",
    "    elif num2<num1:\n",
    "        return num2,num1\n",
    "    \n",
    "ordernar_num(2,3)\n",
    "\n",
    "ordernar_num(30,20)"
   ]
  },
  {
   "cell_type": "code",
   "execution_count": 12,
   "metadata": {},
   "outputs": [
    {
     "name": "stdout",
     "output_type": "stream",
     "text": [
      "Cociente 3  resto  2\n",
      "Divisor  5\n"
     ]
    }
   ],
   "source": [
    "divisor=5\n",
    "def dividir(dividendo):\n",
    "    if divisor==0:\n",
    "        print(\"No se puede dividir entre 0\")\n",
    "    else:\n",
    "        cociente = dividendo// divisor\n",
    "        resto = dividendo % divisor\n",
    "        return cociente, resto\n",
    "    \n",
    "cociente, resto = dividir(17)\n",
    "\n",
    "print(\"Cociente\",cociente, \" resto \",resto)\n",
    "print(\"Divisor \",divisor)\n",
    "\n",
    "#print(\"Dividento \",dividendo) #dara error solo accesible en la fucnion ; nameErrror: name 'dovodendo' is not defined"
   ]
  },
  {
   "cell_type": "code",
   "execution_count": 13,
   "metadata": {},
   "outputs": [
    {
     "name": "stdout",
     "output_type": "stream",
     "text": [
      "Cociente 17  resto  0\n",
      "Divisor  5\n"
     ]
    }
   ],
   "source": [
    "divisor=5\n",
    "def dividir(dividendo, divisor=1):\n",
    "    if divisor==0:\n",
    "        print(\"No se puede dividir entre 0\")\n",
    "    else:\n",
    "        cociente = dividendo// divisor\n",
    "        resto = dividendo % divisor\n",
    "        return cociente, resto\n",
    "    \n",
    "cociente, resto = dividir(17)\n",
    "\n",
    "print(\"Cociente\",cociente, \" resto \",resto)\n",
    "print(\"Divisor \",divisor)\n",
    "\n",
    "#print(\"Dividento \",dividendo) #dara error solo accesible en la fucnion ; nameErrror: name 'dovodendo' is not defined\n",
    "# siempre se usa valor de variable antes que variable global..."
   ]
  }
 ],
 "metadata": {
  "kernelspec": {
   "display_name": "Python 3",
   "language": "python",
   "name": "python3"
  },
  "language_info": {
   "codemirror_mode": {
    "name": "ipython",
    "version": 3
   },
   "file_extension": ".py",
   "mimetype": "text/x-python",
   "name": "python",
   "nbconvert_exporter": "python",
   "pygments_lexer": "ipython3",
   "version": "3.10.12"
  }
 },
 "nbformat": 4,
 "nbformat_minor": 2
}
