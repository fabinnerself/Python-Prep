{
 "cells": [
  {
   "cell_type": "code",
   "execution_count": 3,
   "metadata": {},
   "outputs": [
    {
     "name": "stdout",
     "output_type": "stream",
     "text": [
      "El valor  100  es igual que el valor  100\n"
     ]
    }
   ],
   "source": [
    "a=100\n",
    "b=100\n",
    "if a<b:\n",
    "    print (\"El valor \",a, \" es menor que el valor \",b)\n",
    "elif a>b:\n",
    "    print (\"El valor \",a, \" es mayor que el valor \",b)\n",
    "else:\n",
    "    print (\"El valor \",a, \" es igual que el valor \",b)\n"
   ]
  },
  {
   "cell_type": "code",
   "execution_count": 12,
   "metadata": {},
   "outputs": [
    {
     "name": "stdout",
     "output_type": "stream",
     "text": [
      "El numero  10  es positivo\n"
     ]
    }
   ],
   "source": [
    "\"\"\"\n",
    " print(\"El numero \",a,\" es positivo\")  da error \"{\n",
    "\t\"name\": \"IndentationError\",\n",
    "\t\"message\": \"expected an indented block after 'if' statement on line 2 (178811447.py, line 3)\",\n",
    "\t\"stack\": \"  Cell In[5], line 3\n",
    "    print(\\\"El numero \\\",a,\\\" es positivo\\\")\n",
    "\"\"\"\n",
    "a=10\n",
    "if a>0:\n",
    "    print(\"El numero \",a,\" es positivo\")"
   ]
  },
  {
   "cell_type": "code",
   "execution_count": 13,
   "metadata": {},
   "outputs": [
    {
     "name": "stdout",
     "output_type": "stream",
     "text": [
      "Soy menor que 10 y me ejecuto primero\n"
     ]
    }
   ],
   "source": [
    "num = 5\n",
    "\n",
    "if num > 10:\n",
    "    print(\"Soy mayor que 10\")\n",
    "elif num < 10:\n",
    "    print(\"Soy menor que 10 y me ejecuto primero\")\n",
    "elif num < 7:\n",
    "    print(\"Soy menor que 7\")\n",
    "else :\n",
    "    print(\"Soy igual\")"
   ]
  }
 ],
 "metadata": {
  "kernelspec": {
   "display_name": "Python 3",
   "language": "python",
   "name": "python3"
  },
  "language_info": {
   "codemirror_mode": {
    "name": "ipython",
    "version": 3
   },
   "file_extension": ".py",
   "mimetype": "text/x-python",
   "name": "python",
   "nbconvert_exporter": "python",
   "pygments_lexer": "ipython3",
   "version": "3.10.12"
  }
 },
 "nbformat": 4,
 "nbformat_minor": 2
}
