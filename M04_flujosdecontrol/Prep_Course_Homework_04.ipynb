{
 "cells": [
  {
   "attachments": {},
   "cell_type": "markdown",
   "metadata": {},
   "source": [
    "## Flujos de Control"
   ]
  },
  {
   "attachments": {},
   "cell_type": "markdown",
   "metadata": {},
   "source": [
    "1) Crear una variable que contenga un elemento del conjunto de números enteros y luego imprimir por pantalla si es mayor o menor a cero"
   ]
  },
  {
   "cell_type": "code",
   "execution_count": 39,
   "metadata": {},
   "outputs": [
    {
     "name": "stdout",
     "output_type": "stream",
     "text": [
      "El valor 0  es igual que 0\n"
     ]
    }
   ],
   "source": [
    "var=-0\n",
    "if var>0:\n",
    "    print(\"El valor\",var,\" es mayor que 0\")\n",
    "elif var<0:\n",
    "    print(\"El valor\",var,\" es menor que 0\")\n",
    "else:\n",
    "    print(\"El valor\",var,\" es igual que 0\")"
   ]
  },
  {
   "attachments": {},
   "cell_type": "markdown",
   "metadata": {},
   "source": [
    "2) Crear dos variables y un condicional que informe si son del mismo tipo de dato"
   ]
  },
  {
   "cell_type": "code",
   "execution_count": 35,
   "metadata": {},
   "outputs": [
    {
     "name": "stdout",
     "output_type": "stream",
     "text": [
      "Las variables con valores 2 y  2.2  no tienen mismo tipo\n"
     ]
    }
   ],
   "source": [
    "var1=2\n",
    "var2=2.2\n",
    "\n",
    "if type(var1)==type(var2):\n",
    "    print(\"Las variables con valores\",var1, \"y \",var2,\" tienen mismo tipo\")\n",
    "elif type(var1)!=type(var2):\n",
    "    print(\"Las variables con valores\",var1, \"y \",var2,\" no tienen mismo tipo\")\n"
   ]
  },
  {
   "attachments": {},
   "cell_type": "markdown",
   "metadata": {},
   "source": [
    "3) Para los valores enteros del 1 al 20, imprimir por pantalla si es par o impar"
   ]
  },
  {
   "cell_type": "code",
   "execution_count": 32,
   "metadata": {},
   "outputs": [
    {
     "name": "stdout",
     "output_type": "stream",
     "text": [
      "El numero  1  es impar\n",
      "El numero  2  es par\n",
      "El numero  3  es impar\n",
      "El numero  4  es par\n",
      "El numero  5  es impar\n",
      "El numero  6  es par\n",
      "El numero  7  es impar\n",
      "El numero  8  es par\n",
      "El numero  9  es impar\n",
      "El numero  10  es par\n",
      "El numero  11  es impar\n",
      "El numero  12  es par\n",
      "El numero  13  es impar\n",
      "El numero  14  es par\n",
      "El numero  15  es impar\n",
      "El numero  16  es par\n",
      "El numero  17  es impar\n",
      "El numero  18  es par\n",
      "El numero  19  es impar\n",
      "El numero  20  es par\n"
     ]
    }
   ],
   "source": [
    "for i in range (1,21):\n",
    "    if i%2==0:\n",
    "        print(\"El numero \",i,\" es par\")\n",
    "    elif i%2!=0:\n",
    "        print(\"El numero \",i,\" es impar\")\n",
    "\n",
    "        "
   ]
  },
  {
   "attachments": {},
   "cell_type": "markdown",
   "metadata": {},
   "source": [
    "4) En un ciclo for mostrar para los valores entre 0 y 5 el resultado de elevarlo a la potencia igual a 3"
   ]
  },
  {
   "cell_type": "code",
   "execution_count": 30,
   "metadata": {},
   "outputs": [
    {
     "name": "stdout",
     "output_type": "stream",
     "text": [
      "El valor  0  elevado al cubo es  0\n",
      "El valor  1  elevado al cubo es  1\n",
      "El valor  2  elevado al cubo es  8\n",
      "El valor  3  elevado al cubo es  27\n",
      "El valor  4  elevado al cubo es  64\n",
      "El valor  5  elevado al cubo es  125\n",
      "El valor for es 6\n",
      "El valor for es 7\n",
      "El valor for es 8\n",
      "El valor for es 9\n"
     ]
    }
   ],
   "source": [
    "for i in range(0,10):\n",
    "    if i>=0 and i<=5:\n",
    "        elev=i**3\n",
    "        print(\"El valor \",i,\" elevado al cubo es \",elev)\n",
    "    else:\n",
    "        print(\"El valor for es\",i)"
   ]
  },
  {
   "attachments": {},
   "cell_type": "markdown",
   "metadata": {},
   "source": [
    "5) Crear una variable que contenga un número entero y realizar un ciclo for la misma cantidad de ciclos"
   ]
  },
  {
   "cell_type": "code",
   "execution_count": 28,
   "metadata": {},
   "outputs": [
    {
     "name": "stdout",
     "output_type": "stream",
     "text": [
      "iterando ciclo  0\n",
      "iterando ciclo  1\n",
      "iterando ciclo  2\n",
      "iterando ciclo  3\n",
      "iterando ciclo  4\n"
     ]
    }
   ],
   "source": [
    "num = int(input(\"Ingrese un número entero (o 0 para salir): \"))\n",
    "if num!=0:\n",
    "    for i in range(0,num):\n",
    "        print(\"iterando ciclo \",i)\n",
    "    \n",
    "else:\n",
    "    print (\"Adios\")"
   ]
  },
  {
   "attachments": {},
   "cell_type": "markdown",
   "metadata": {},
   "source": [
    "6) Utilizar un ciclo while para realizar el factorial de un número guardado en una variable, sólo si la variable contiene un número entero mayor a 0"
   ]
  },
  {
   "cell_type": "code",
   "execution_count": 23,
   "metadata": {},
   "outputs": [
    {
     "name": "stdout",
     "output_type": "stream",
     "text": [
      "El factorial de  5 es  120\n"
     ]
    }
   ],
   "source": [
    "var=5\n",
    "fact=1\n",
    "aux=var\n",
    "if var>0:\n",
    "    while var>0:\n",
    "        fact*=var\n",
    "        var-=1\n",
    "    print(\"El factorial de \",aux, \"es \",fact)\n",
    "else:\n",
    "    print(\"El numero a factorizar debe ser positivo\")"
   ]
  },
  {
   "attachments": {},
   "cell_type": "markdown",
   "metadata": {},
   "source": [
    "7) Crear un ciclo for dentro de un ciclo while"
   ]
  },
  {
   "cell_type": "code",
   "execution_count": 16,
   "metadata": {},
   "outputs": [
    {
     "name": "stdout",
     "output_type": "stream",
     "text": [
      "while  0  for  0\n",
      "while  0  for  1\n",
      "while  0  for  2\n",
      "while  1  for  0\n",
      "while  1  for  1\n",
      "while  1  for  2\n",
      "while  2  for  0\n",
      "while  2  for  1\n",
      "while  2  for  2\n",
      "while  3  for  0\n",
      "while  3  for  1\n",
      "while  3  for  2\n",
      "while  4  for  0\n",
      "while  4  for  1\n",
      "while  4  for  2\n"
     ]
    }
   ],
   "source": [
    "a = 0\n",
    "\n",
    "while a < 5:\n",
    "    for i in range(3):\n",
    "        print(\"while \", a,\" for \", i, )\n",
    "    i=0\n",
    "    a += 1  # Reiniciar a para la siguiente i"
   ]
  },
  {
   "attachments": {},
   "cell_type": "markdown",
   "metadata": {},
   "source": [
    "8) Crear un ciclo while dentro de un ciclo for"
   ]
  },
  {
   "cell_type": "code",
   "execution_count": 14,
   "metadata": {},
   "outputs": [
    {
     "name": "stdout",
     "output_type": "stream",
     "text": [
      "for  0  while  1\n",
      "for  0  while  2\n",
      "for  0  while  3\n",
      "for  0  while  4\n",
      "for  0  while  5\n",
      "for  1  while  1\n",
      "for  1  while  2\n",
      "for  1  while  3\n",
      "for  1  while  4\n",
      "for  1  while  5\n",
      "for  2  while  1\n",
      "for  2  while  2\n",
      "for  2  while  3\n",
      "for  2  while  4\n",
      "for  2  while  5\n"
     ]
    }
   ],
   "source": [
    "a = 0\n",
    "for i in range(3):\n",
    "    while a < 5:\n",
    "        a += 1\n",
    "        print(\"for \", i, \" while \", a)\n",
    "    a = 0  # Reiniciar a para la siguiente i\n",
    "    "
   ]
  },
  {
   "attachments": {},
   "cell_type": "markdown",
   "metadata": {},
   "source": [
    "9) Imprimir los números primos existentes entre 0 y 30"
   ]
  },
  {
   "cell_type": "code",
   "execution_count": 4,
   "metadata": {},
   "outputs": [
    {
     "name": "stdout",
     "output_type": "stream",
     "text": [
      "2\n",
      "3\n",
      "5\n",
      "7\n",
      "11\n",
      "13\n",
      "17\n",
      "19\n",
      "23\n",
      "29\n"
     ]
    }
   ],
   "source": [
    "def es_primo(num):\n",
    "  \"\"\"Determina si un número es primo.\n",
    "\n",
    "  Args:\n",
    "    num: El número a evaluar.\n",
    "\n",
    "  Returns:\n",
    "    True si el número es primo, False si no lo es.\n",
    "  \"\"\"\n",
    "\n",
    "  if num <= 1:\n",
    "    return False\n",
    "  if num <= 3:\n",
    "    return True\n",
    "  if num % 2 == 0 or num % 3 == 0:\n",
    "    return False\n",
    "  i = 5\n",
    "  while i * i <= num:\n",
    "    if num % i == 0 or num % (i + 2) == 0:\n",
    "      return False\n",
    "    i += 6\n",
    "  return True\n",
    "\n",
    "# Imprimir los números primos entre 0 y 30\n",
    "for num in range(2, 31):\n",
    "  if es_primo(num):\n",
    "    print(num)"
   ]
  },
  {
   "attachments": {},
   "cell_type": "markdown",
   "metadata": {},
   "source": [
    "10) ¿Se puede mejorar el proceso del punto 9? Utilizar las sentencias break y/ó continue para tal fin"
   ]
  },
  {
   "cell_type": "code",
   "execution_count": 8,
   "metadata": {},
   "outputs": [
    {
     "name": "stdout",
     "output_type": "stream",
     "text": [
      "2\n",
      "3\n",
      "5\n",
      "7\n",
      "11\n",
      "13\n",
      "17\n",
      "19\n",
      "23\n",
      "29\n"
     ]
    }
   ],
   "source": [
    "def es_primo(num):\n",
    "  \"\"\"Determina si un número es primo.\n",
    "\n",
    "  Args:\n",
    "    num: El número a evaluar.\n",
    "\n",
    "  Returns:\n",
    "    True si el número es primo, False si no lo es.\n",
    "  \"\"\"\n",
    "\n",
    "  if num <= 1:\n",
    "    return False\n",
    "  if num <= 3:\n",
    "    return True\n",
    "  if num % 2 == 0 or num % 3 == 0:\n",
    "    return False\n",
    "  i = 5\n",
    "  while i * i <= num:\n",
    "    if num % i == 0:\n",
    "      return False\n",
    "    i += 6\n",
    "  return True\n",
    "\n",
    "# Imprimir los números primos entre 0 y 30\n",
    "for num in range(0, 30):\n",
    "  if not es_primo(num):\n",
    "    continue  # Si no es primo, saltar a la siguiente iteración\n",
    "  print(num)"
   ]
  },
  {
   "attachments": {},
   "cell_type": "markdown",
   "metadata": {},
   "source": [
    "11) En los puntos 9 y 10, se diseño un código que encuentra números primos y además se lo optimizó. ¿Es posible saber en qué medida se optimizó?"
   ]
  },
  {
   "cell_type": "code",
   "execution_count": null,
   "metadata": {},
   "outputs": [],
   "source": [
    "# el codigo con continue tardo mas; el algoritmo sin continue es mas eficiente y rapido"
   ]
  },
  {
   "attachments": {},
   "cell_type": "markdown",
   "metadata": {},
   "source": [
    "12) Aplicando continue, armar un ciclo while que solo imprima los valores divisibles por 12, dentro del rango de números de 100 a 300"
   ]
  },
  {
   "cell_type": "code",
   "execution_count": 40,
   "metadata": {},
   "outputs": [
    {
     "name": "stdout",
     "output_type": "stream",
     "text": [
      "El numero  108  es divisible por 12\n",
      "El numero  120  es divisible por 12\n",
      "El numero  132  es divisible por 12\n",
      "El numero  144  es divisible por 12\n",
      "El numero  156  es divisible por 12\n",
      "El numero  168  es divisible por 12\n",
      "El numero  180  es divisible por 12\n",
      "El numero  192  es divisible por 12\n",
      "El numero  204  es divisible por 12\n",
      "El numero  216  es divisible por 12\n",
      "El numero  228  es divisible por 12\n",
      "El numero  240  es divisible por 12\n",
      "El numero  252  es divisible por 12\n",
      "El numero  264  es divisible por 12\n",
      "El numero  276  es divisible por 12\n",
      "El numero  288  es divisible por 12\n",
      "El numero  300  es divisible por 12\n"
     ]
    }
   ],
   "source": [
    "numero = 100\n",
    "\n",
    "while numero <= 300:\n",
    "    if numero % 12 != 0:\n",
    "        numero += 1\n",
    "        continue\n",
    "    print(\"El numero \",numero, \" es divisible por 12\")\n",
    "    numero += 1"
   ]
  },
  {
   "attachments": {},
   "cell_type": "markdown",
   "metadata": {},
   "source": [
    "13) Utilizar la función **input()** que permite hacer ingresos por teclado, para encontrar números primos y dar la opción al usario de buscar el siguiente"
   ]
  },
  {
   "cell_type": "code",
   "execution_count": 2,
   "metadata": {},
   "outputs": [
    {
     "name": "stdout",
     "output_type": "stream",
     "text": [
      "37 es un número primo.\n",
      "4 no es un número primo.\n",
      "El siguiente número primo es: 5\n",
      "Entrada inválida. Por favor, ingrese un número entero.\n",
      "Entrada inválida. Por favor, ingrese un número entero.\n"
     ]
    }
   ],
   "source": [
    "def es_primo(num):\n",
    "  \"\"\"Determina si un número es primo.\n",
    "\n",
    "  Args:\n",
    "    num: El número a evaluar.\n",
    "\n",
    "  Returns:\n",
    "    True si el número es primo, False si no lo es.\n",
    "  \"\"\"\n",
    "\n",
    "  if num <= 1:\n",
    "    return False\n",
    "  if num <= 3:\n",
    "    return True\n",
    "  if num % 2 == 0 or num % 3 == 0:\n",
    "    return False\n",
    "  i = 5\n",
    "  while i * i <= num:\n",
    "    if num % i == 0 or num % (i + 2) == 0:\n",
    "      return False\n",
    "    i += 6\n",
    "  return True\n",
    "\n",
    "def encontrar_siguiente_primo(num):\n",
    "  \"\"\"Encuentra el siguiente número primo a partir de un número dado.\n",
    "\n",
    "  Args:\n",
    "    num: El número a partir del cual se buscará el siguiente primo.\n",
    "\n",
    "  Returns:\n",
    "    El siguiente número primo.\n",
    "  \"\"\"\n",
    "\n",
    "  while True:\n",
    "    num += 1\n",
    "    if es_primo(num):\n",
    "      return num\n",
    "\n",
    "while True:\n",
    "  try:\n",
    "    num = int(input(\"Ingrese un número entero positivo (o 0 para salir): \"))\n",
    "    if num == 0:\n",
    "      break\n",
    "    if es_primo(num):\n",
    "      print(num, \"es un número primo.\")\n",
    "    else:\n",
    "      print(num, \"no es un número primo.\")\n",
    "      siguiente_primo = encontrar_siguiente_primo(num)\n",
    "      print(\"El siguiente número primo es:\", siguiente_primo)\n",
    "  except ValueError:\n",
    "    print(\"Entrada inválida. Por favor, ingrese un número entero.\")"
   ]
  },
  {
   "attachments": {},
   "cell_type": "markdown",
   "metadata": {},
   "source": [
    "14) Crear un ciclo while que encuentre dentro del rango de 100 a 300 el primer número divisible por 3 y además múltiplo de 6"
   ]
  },
  {
   "cell_type": "code",
   "execution_count": 1,
   "metadata": {},
   "outputs": [
    {
     "name": "stdout",
     "output_type": "stream",
     "text": [
      "102  Es un numero divisible por tres y multiplo de 6\n",
      "108  Es un numero divisible por tres y multiplo de 6\n",
      "114  Es un numero divisible por tres y multiplo de 6\n",
      "120  Es un numero divisible por tres y multiplo de 6\n",
      "126  Es un numero divisible por tres y multiplo de 6\n",
      "132  Es un numero divisible por tres y multiplo de 6\n",
      "138  Es un numero divisible por tres y multiplo de 6\n",
      "144  Es un numero divisible por tres y multiplo de 6\n",
      "150  Es un numero divisible por tres y multiplo de 6\n",
      "156  Es un numero divisible por tres y multiplo de 6\n",
      "162  Es un numero divisible por tres y multiplo de 6\n",
      "168  Es un numero divisible por tres y multiplo de 6\n",
      "174  Es un numero divisible por tres y multiplo de 6\n",
      "180  Es un numero divisible por tres y multiplo de 6\n",
      "186  Es un numero divisible por tres y multiplo de 6\n",
      "192  Es un numero divisible por tres y multiplo de 6\n",
      "198  Es un numero divisible por tres y multiplo de 6\n",
      "204  Es un numero divisible por tres y multiplo de 6\n",
      "210  Es un numero divisible por tres y multiplo de 6\n",
      "216  Es un numero divisible por tres y multiplo de 6\n",
      "222  Es un numero divisible por tres y multiplo de 6\n",
      "228  Es un numero divisible por tres y multiplo de 6\n",
      "234  Es un numero divisible por tres y multiplo de 6\n",
      "240  Es un numero divisible por tres y multiplo de 6\n",
      "246  Es un numero divisible por tres y multiplo de 6\n",
      "252  Es un numero divisible por tres y multiplo de 6\n",
      "258  Es un numero divisible por tres y multiplo de 6\n",
      "264  Es un numero divisible por tres y multiplo de 6\n",
      "270  Es un numero divisible por tres y multiplo de 6\n",
      "276  Es un numero divisible por tres y multiplo de 6\n",
      "282  Es un numero divisible por tres y multiplo de 6\n",
      "288  Es un numero divisible por tres y multiplo de 6\n",
      "294  Es un numero divisible por tres y multiplo de 6\n"
     ]
    }
   ],
   "source": [
    "for i in range(100,300):\n",
    "    if i%3==0 and i%6==0:\n",
    "        print(i, \" Es un numero divisible por tres y multiplo de seis\")\n"
   ]
  }
 ],
 "metadata": {
  "interpreter": {
   "hash": "c85384e4cb51c8b72350f3a8712cc8351fdc3955e32a27f9b60c6242ab125f01"
  },
  "kernelspec": {
   "display_name": "Python 3 (ipykernel)",
   "language": "python",
   "name": "python3"
  },
  "language_info": {
   "codemirror_mode": {
    "name": "ipython",
    "version": 3
   },
   "file_extension": ".py",
   "mimetype": "text/x-python",
   "name": "python",
   "nbconvert_exporter": "python",
   "pygments_lexer": "ipython3",
   "version": "3.10.12"
  }
 },
 "nbformat": 4,
 "nbformat_minor": 4
}
