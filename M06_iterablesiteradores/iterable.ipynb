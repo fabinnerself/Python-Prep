{
 "cells": [
  {
   "cell_type": "code",
   "execution_count": 1,
   "metadata": {},
   "outputs": [
    {
     "name": "stdout",
     "output_type": "stream",
     "text": [
      "5\n",
      "4\n",
      "9\n",
      "2\n"
     ]
    }
   ],
   "source": [
    "lista = [5, 4, 9, 2]\n",
    "i = 0\n",
    "while i < len(lista):\n",
    "    elemento = lista[i]\n",
    "    print(elemento)\n",
    "    i += 1"
   ]
  },
  {
   "cell_type": "code",
   "execution_count": 2,
   "metadata": {},
   "outputs": [
    {
     "name": "stdout",
     "output_type": "stream",
     "text": [
      "5\n",
      "4\n",
      "9\n",
      "2\n"
     ]
    }
   ],
   "source": [
    "lista = [5, 4, 9, 2]\n",
    "\n",
    "for elemento in lista:\n",
    "    print(elemento)\n",
    "    # esta estructura es mas eficiente"
   ]
  },
  {
   "cell_type": "code",
   "execution_count": 3,
   "metadata": {},
   "outputs": [
    {
     "name": "stdout",
     "output_type": "stream",
     "text": [
      "H\n",
      "e\n",
      "n\n",
      "r\n",
      "y\n"
     ]
    }
   ],
   "source": [
    "cadena = \"Henry\"\n",
    "for c in cadena:\n",
    "    print(c)"
   ]
  },
  {
   "cell_type": "code",
   "execution_count": 4,
   "metadata": {},
   "outputs": [
    {
     "name": "stdout",
     "output_type": "stream",
     "text": [
      "(0, 'H')\n",
      "(1, 'e')\n",
      "(2, 'n')\n",
      "(3, 'r')\n",
      "(4, 'y')\n"
     ]
    }
   ],
   "source": [
    "cadena = \"Henry\"\n",
    "for c in enumerate(cadena):\n",
    "    print(c)\n",
    "    #obs imprime tupla indice y valor..."
   ]
  },
  {
   "cell_type": "code",
   "execution_count": 8,
   "metadata": {},
   "outputs": [
    {
     "name": "stdout",
     "output_type": "stream",
     "text": [
      "True\n",
      "False\n"
     ]
    }
   ],
   "source": [
    "from collections.abc import Iterable\n",
    "cadena = \"Henry\"\n",
    "numero = 9\n",
    "print(isinstance(cadena,Iterable))\n",
    "\n",
    "print(isinstance(numero,Iterable))"
   ]
  },
  {
   "cell_type": "code",
   "execution_count": 6,
   "metadata": {},
   "outputs": [
    {
     "name": "stdout",
     "output_type": "stream",
     "text": [
      "a\n",
      "b\n",
      "c\n"
     ]
    }
   ],
   "source": [
    "mi_dict = {'a':1, 'b':2, 'c':3}\n",
    "for i in mi_dict:\n",
    "    print(i)"
   ]
  },
  {
   "cell_type": "code",
   "execution_count": 10,
   "metadata": {},
   "outputs": [
    {
     "name": "stdout",
     "output_type": "stream",
     "text": [
      "['H', 'e', 'n', 'r', 'y']\n",
      "True\n"
     ]
    }
   ],
   "source": [
    "print(list(\"Henry\"))\n",
    "print(isinstance(list(\"Henry\"),Iterable))\n"
   ]
  },
  {
   "cell_type": "code",
   "execution_count": 12,
   "metadata": {},
   "outputs": [
    {
     "name": "stdout",
     "output_type": "stream",
     "text": [
      "6\n",
      "False\n"
     ]
    }
   ],
   "source": [
    "print(sum([1,2,3]))\n",
    "print(isinstance(sum([1,2,3]),Iterable))"
   ]
  },
  {
   "cell_type": "code",
   "execution_count": 14,
   "metadata": {},
   "outputs": [
    {
     "name": "stdout",
     "output_type": "stream",
     "text": [
      "H-e-n-r-y\n"
     ]
    }
   ],
   "source": [
    "print(\"-\".join(\"Henry\"))"
   ]
  },
  {
   "cell_type": "code",
   "execution_count": 17,
   "metadata": {},
   "outputs": [
    {
     "name": "stdout",
     "output_type": "stream",
     "text": [
      "<class 'list_iterator'>\n"
     ]
    }
   ],
   "source": [
    "libro = ['página1', 'página2', 'página3', 'página4']\n",
    "marcapaginas = iter(libro)\n",
    "print(type(marcapaginas))"
   ]
  },
  {
   "cell_type": "code",
   "execution_count": 18,
   "metadata": {},
   "outputs": [
    {
     "name": "stdout",
     "output_type": "stream",
     "text": [
      "página1\n"
     ]
    }
   ],
   "source": [
    "print(next(marcapaginas))"
   ]
  },
  {
   "cell_type": "code",
   "execution_count": 19,
   "metadata": {},
   "outputs": [
    {
     "name": "stdout",
     "output_type": "stream",
     "text": [
      "página2\n"
     ]
    }
   ],
   "source": [
    "print(next(marcapaginas))"
   ]
  },
  {
   "cell_type": "code",
   "execution_count": 20,
   "metadata": {},
   "outputs": [
    {
     "name": "stdout",
     "output_type": "stream",
     "text": [
      "página3\n"
     ]
    }
   ],
   "source": [
    "print(next(marcapaginas))"
   ]
  },
  {
   "cell_type": "code",
   "execution_count": 21,
   "metadata": {},
   "outputs": [
    {
     "name": "stdout",
     "output_type": "stream",
     "text": [
      "página4\n"
     ]
    }
   ],
   "source": [
    "print(next(marcapaginas))"
   ]
  },
  {
   "cell_type": "code",
   "execution_count": 22,
   "metadata": {},
   "outputs": [
    {
     "ename": "StopIteration",
     "evalue": "",
     "output_type": "error",
     "traceback": [
      "\u001b[0;31m---------------------------------------------------------------------------\u001b[0m",
      "\u001b[0;31mStopIteration\u001b[0m                             Traceback (most recent call last)",
      "Cell \u001b[0;32mIn[22], line 1\u001b[0m\n\u001b[0;32m----> 1\u001b[0m \u001b[38;5;28mprint\u001b[39m(\u001b[38;5;28;43mnext\u001b[39;49m\u001b[43m(\u001b[49m\u001b[43mmarcapaginas\u001b[49m\u001b[43m)\u001b[49m)\n",
      "\u001b[0;31mStopIteration\u001b[0m: "
     ]
    }
   ],
   "source": [
    "print(next(marcapaginas)) #error: StopIteration"
   ]
  }
 ],
 "metadata": {
  "kernelspec": {
   "display_name": "Python 3",
   "language": "python",
   "name": "python3"
  },
  "language_info": {
   "codemirror_mode": {
    "name": "ipython",
    "version": 3
   },
   "file_extension": ".py",
   "mimetype": "text/x-python",
   "name": "python",
   "nbconvert_exporter": "python",
   "pygments_lexer": "ipython3",
   "version": "3.10.12"
  }
 },
 "nbformat": 4,
 "nbformat_minor": 2
}
