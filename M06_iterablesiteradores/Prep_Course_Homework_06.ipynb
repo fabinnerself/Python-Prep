{
 "cells": [
  {
   "attachments": {},
   "cell_type": "markdown",
   "metadata": {},
   "source": [
    "## Iteradores e iterables"
   ]
  },
  {
   "attachments": {},
   "cell_type": "markdown",
   "metadata": {},
   "source": [
    "1) A partir de una lista vacía, utilizar un ciclo while para cargar allí números negativos del -15 al -1"
   ]
  },
  {
   "cell_type": "code",
   "execution_count": 15,
   "metadata": {},
   "outputs": [
    {
     "name": "stdout",
     "output_type": "stream",
     "text": [
      "[-15, -14, -13, -12, -11, -10, -9, -8, -7, -6, -5, -4, -3, -2, -1]\n"
     ]
    }
   ],
   "source": [
    "lst_vac=[]\n",
    "i=-15\n",
    "\n",
    "while i<=-1:\n",
    "    lst_vac.append(i)\n",
    "    i+=1\n",
    "\n",
    "print(lst_vac)\n"
   ]
  },
  {
   "attachments": {},
   "cell_type": "markdown",
   "metadata": {},
   "source": [
    "2) ¿Con un ciclo while sería posible recorrer la lista para imprimir sólo los números pares?"
   ]
  },
  {
   "cell_type": "code",
   "execution_count": 16,
   "metadata": {},
   "outputs": [
    {
     "name": "stdout",
     "output_type": "stream",
     "text": [
      "[-14, -12, -10, -8, -6, -4, -2]\n"
     ]
    }
   ],
   "source": [
    " # Inicializar la lista de pares y el índice\n",
    "lst_par = []\n",
    "i = 0  # Comenzamos desde el índice 0\n",
    "\n",
    "# Recorrer la lista hasta el último elemento\n",
    "while i < len(lst_vac):\n",
    "    # Si el número es par, lo agregamos a la lista de pares\n",
    "    if lst_vac[i] % 2 == 0:\n",
    "        lst_par.append(lst_vac[i])\n",
    "    i += 1\n",
    "\n",
    "print(lst_par)"
   ]
  },
  {
   "attachments": {},
   "cell_type": "markdown",
   "metadata": {},
   "source": [
    "3) Resolver el punto anterior sin utilizar un ciclo while"
   ]
  },
  {
   "cell_type": "code",
   "execution_count": null,
   "metadata": {},
   "outputs": [],
   "source": [
    "numeros_pares = [num for num in lst_vac if num % 2 ==0]\n",
    "print(numeros_pares)  "
   ]
  },
  {
   "attachments": {},
   "cell_type": "markdown",
   "metadata": {},
   "source": [
    "4) Utilizar el iterable para recorrer sólo los primeros 3 elementos"
   ]
  },
  {
   "cell_type": "code",
   "execution_count": 6,
   "metadata": {},
   "outputs": [
    {
     "name": "stdout",
     "output_type": "stream",
     "text": [
      "H\n",
      "e\n",
      "n\n"
     ]
    }
   ],
   "source": [
    "cadena = \"Henry\"\n",
    "for c in enumerate(cadena):\n",
    "    i,val=c\n",
    "    if i<=2:\n",
    "        print(val)"
   ]
  },
  {
   "attachments": {},
   "cell_type": "markdown",
   "metadata": {},
   "source": [
    "5) Utilizar la función **enumerate** para obtener dentro del iterable, tambien el índice al que corresponde el elemento"
   ]
  },
  {
   "cell_type": "code",
   "execution_count": 5,
   "metadata": {},
   "outputs": [
    {
     "name": "stdout",
     "output_type": "stream",
     "text": [
      "(0, 'H')\n",
      "(1, 'e')\n",
      "(2, 'n')\n",
      "(3, 'r')\n",
      "(4, 'y')\n"
     ]
    }
   ],
   "source": [
    "cadena = \"Henry\"\n",
    "for c in enumerate(cadena):\n",
    "    print(c)"
   ]
  },
  {
   "attachments": {},
   "cell_type": "markdown",
   "metadata": {},
   "source": [
    "6) Dada la siguiente lista de números enteros entre 1 y 20, crear un ciclo donde se completen los valores faltantes: lista = [1,2,5,7,8,10,13,14,15,17,20]"
   ]
  },
  {
   "cell_type": "code",
   "execution_count": 4,
   "metadata": {},
   "outputs": [
    {
     "name": "stdout",
     "output_type": "stream",
     "text": [
      "[1, 2, 3, 4, 5, 6, 7, 8, 9, 10, 11, 12, 13, 14, 15, 16, 17, 18, 19, 20]\n"
     ]
    }
   ],
   "source": [
    "lista = [1, 2, 5, 7, 8, 10, 13, 14, 15, 17, 20]\n",
    "\n",
    "def completar_lista(lista):\n",
    "  \"\"\"Completa los valores faltantes en una lista de números enteros entre 1 y 20.\n",
    "\n",
    "  Args:\n",
    "    lista: La lista de números a completar.\n",
    "\n",
    "  Returns:\n",
    "    La lista con los valores faltantes insertados.\n",
    "  \"\"\"\n",
    "\n",
    "  i = 1  # Empezamos desde el segundo elemento\n",
    "  while i < len(lista):\n",
    "    if lista[i] - lista[i-1] > 1:\n",
    "      # Hay números faltantes\n",
    "      for num in range(lista[i-1] + 1, lista[i]):\n",
    "        lista.insert(i, num)\n",
    "        i += 1  # Incrementa el índice para no volver a procesar el número recién insertado\n",
    "    i += 1\n",
    "\n",
    "  # Verificar si falta el número 20\n",
    "  if lista[-1] < 20:\n",
    "    for num in range(lista[-1] + 1, 21):\n",
    "      lista.append(num)\n",
    "\n",
    "  return lista\n",
    "\n",
    "resultado = completar_lista(lista)\n",
    "print(resultado)"
   ]
  },
  {
   "attachments": {},
   "cell_type": "markdown",
   "metadata": {},
   "source": [
    "7) La sucesión de Fibonacci es un listado de números que sigue la fórmula: <br>\n",
    "n<sub>0</sub> = 0<br>\n",
    "n<sub>1</sub> = 1<br>\n",
    "n<sub>i</sub> = n<sub>i-1</sub> + n<sub>i-2</sub><br>\n",
    "Crear una lista con los primeros treinta números de la sucesión.<br>"
   ]
  },
  {
   "cell_type": "code",
   "execution_count": 1,
   "metadata": {},
   "outputs": [
    {
     "name": "stdout",
     "output_type": "stream",
     "text": [
      "[0, 1, 1, 2, 3, 5, 8, 13, 21, 34, 55, 89, 144, 233, 377, 610, 987, 1597, 2584, 4181, 6765, 10946, 17711, 28657, 46368, 75025, 121393, 196418, 317811, 514229]\n"
     ]
    }
   ],
   "source": [
    "def fibonacci(n):\n",
    "  \"\"\"Calcula los primeros n números de la sucesión de Fibonacci.\n",
    "\n",
    "  Args:\n",
    "    n: El número de términos de la sucesión a calcular.\n",
    "\n",
    "  Returns:\n",
    "    Una lista con los primeros n números de la sucesión de Fibonacci.\n",
    "  \"\"\"\n",
    "\n",
    "  fib_list = [0, 1]  # Inicializamos la lista con los dos primeros términos\n",
    "  for i in range(2, n):\n",
    "    next_fib = fib_list[i-1] + fib_list[i-2]\n",
    "    fib_list.append(next_fib)\n",
    "  return fib_list\n",
    "\n",
    "# Calcular los primeros 30 números de la sucesión\n",
    "resultado = fibonacci(30)\n",
    "\n",
    "# Imprimir el resultado\n",
    "print(resultado)"
   ]
  },
  {
   "attachments": {},
   "cell_type": "markdown",
   "metadata": {},
   "source": [
    "8) Realizar la suma de todos elementos de la lista del punto anterior"
   ]
  },
  {
   "cell_type": "code",
   "execution_count": 18,
   "metadata": {},
   "outputs": [
    {
     "name": "stdout",
     "output_type": "stream",
     "text": [
      "1346268\n"
     ]
    }
   ],
   "source": [
    "print(sum(resultado))"
   ]
  },
  {
   "attachments": {},
   "cell_type": "markdown",
   "metadata": {},
   "source": [
    "9) La proporción aurea se expresa con una proporción matemática que nace el número irracional Phi= 1,618… que los griegos llamaron número áureo. El cuál se puede aproximar con la sucesión de Fibonacci. Con la lista del ejercicio anterior, imprimir el cociente de los últimos 5 pares de dos números contiguos:<br>\n",
    "Donde i es la cantidad total de elementos<br>\n",
    "n<sub>i-1</sub> / n<sub>i</sub><br>\n",
    "n<sub>i-2</sub> / n<sub>i-1</sub><br>\n",
    "n<sub>i-3</sub> / n<sub>i-2</sub><br>\n",
    "n<sub>i-4</sub> / n<sub>i-3</sub><br>\n",
    "n<sub>i-5</sub> / n<sub>i-4</sub><br>\n",
    " "
   ]
  },
  {
   "cell_type": "code",
   "execution_count": 19,
   "metadata": {},
   "outputs": [
    {
     "name": "stdout",
     "output_type": "stream",
     "text": [
      "Cocientes de los últimos 5 pares de números de Fibonacci:\n",
      "[0.6180339887482036, 0.6180339887543226, 0.618033988738303, 0.6180339887802427, 0.6180339886704432]\n"
     ]
    }
   ],
   "source": [
    "def fibonacci(n):\n",
    "    \"\"\"Calcula los primeros n números de la sucesión de Fibonacci.\n",
    "\n",
    "    Args:\n",
    "        n: El número de términos de la sucesión a calcular.\n",
    "\n",
    "    Returns:\n",
    "        Una lista con los primeros n números de la sucesión de Fibonacci.\n",
    "    \"\"\"\n",
    "\n",
    "    fib_list = [0, 1]\n",
    "    for _ in range(2, n):\n",
    "        fib_list.append(fib_list[-1] + fib_list[-2])\n",
    "    return fib_list\n",
    "\n",
    "def cocientes_aureos(fib_list):\n",
    "    \"\"\"Calcula los cocientes de los últimos 5 pares de números consecutivos de la sucesión de Fibonacci.\n",
    "\n",
    "    Args:\n",
    "        fib_list: Una lista con los números de Fibonacci.\n",
    "\n",
    "    Returns:\n",
    "        Una lista con los cocientes calculados.\n",
    "    \"\"\"\n",
    "\n",
    "    cocientes = []\n",
    "    for i in range(5):\n",
    "        cociente = fib_list[-i-2] / fib_list[-i-1]\n",
    "        cocientes.append(cociente)\n",
    "    return cocientes\n",
    "\n",
    "# Calcular los primeros 30 números de Fibonacci\n",
    "fibonacci_numbers = fibonacci(30)\n",
    "\n",
    "# Calcular los cocientes de los últimos 5 pares\n",
    "cocientes = cocientes_aureos(fibonacci_numbers)\n",
    "\n",
    "# Imprimir los cocientes\n",
    "print(\"Cocientes de los últimos 5 pares de números de Fibonacci:\")\n",
    "print(cocientes)"
   ]
  },
  {
   "attachments": {},
   "cell_type": "markdown",
   "metadata": {},
   "source": [
    "10) A partir de la variable cadena ya dada, mostrar en qué posiciones aparece la letra \"n\"<br>\n",
    "cadena = 'Hola Mundo. Esto es una practica del lenguaje de programación Python'"
   ]
  },
  {
   "cell_type": "code",
   "execution_count": 18,
   "metadata": {},
   "outputs": [
    {
     "name": "stdout",
     "output_type": "stream",
     "text": [
      "[7, 22, 40, 61, 68]\n"
     ]
    }
   ],
   "source": [
    "cadena = \"Hola Mundo . Esto es una practica del lenguaje de programación Python\"\n",
    "\n",
    "posiciones = [i for i, letra in enumerate(cadena) if letra == 'n']\n",
    "\n",
    "print(posiciones)  "
   ]
  },
  {
   "attachments": {},
   "cell_type": "markdown",
   "metadata": {},
   "source": [
    "11) Crear un diccionario e imprimir sus claves utilizando un iterador"
   ]
  },
  {
   "cell_type": "code",
   "execution_count": 8,
   "metadata": {},
   "outputs": [
    {
     "name": "stdout",
     "output_type": "stream",
     "text": [
      "valor1\n",
      "valor2\n",
      "valor3\n"
     ]
    }
   ],
   "source": [
    "dic_lista={\"valor1\":[1,2,4],\"valor2\":False,\"valor3\":10}\n",
    "\n",
    "for idx_val in dic_lista:\n",
    "    print(idx_val)"
   ]
  },
  {
   "attachments": {},
   "cell_type": "markdown",
   "metadata": {},
   "source": [
    "12) Convertir en una lista la variable \"cadena\" del punto 10 y luego recorrerla con un iterador "
   ]
  },
  {
   "cell_type": "code",
   "execution_count": 16,
   "metadata": {},
   "outputs": [
    {
     "name": "stdout",
     "output_type": "stream",
     "text": [
      "H\n",
      "o\n",
      "l\n",
      "a\n",
      " \n",
      "M\n",
      "u\n",
      "n\n",
      "d\n",
      "o\n"
     ]
    }
   ],
   "source": [
    "cadena = \"Hola Mundo\"\n",
    "ls_cad=list(cadena)\n",
    "\n",
    "for i in cadena:\n",
    "    print(i)"
   ]
  },
  {
   "attachments": {},
   "cell_type": "markdown",
   "metadata": {},
   "source": [
    "13) Crear dos listas y unirlas en una tupla utilizando la función zip"
   ]
  },
  {
   "cell_type": "code",
   "execution_count": 5,
   "metadata": {},
   "outputs": [],
   "source": [
    "ls_impar=[1,3,5,7,9]\n",
    "ls_par=[2,4,6,8,10]\n",
    "\n",
    "ls_comb=zip(ls_impar,ls_par)\n"
   ]
  },
  {
   "attachments": {},
   "cell_type": "markdown",
   "metadata": {},
   "source": [
    "14) A partir de la siguiente lista de números, crear una nueva sólo si el número es divisible por 7<br>\n",
    "lis = [18,21,29,32,35,42,56,60,63,71,84,90,91,100]"
   ]
  },
  {
   "cell_type": "code",
   "execution_count": 4,
   "metadata": {},
   "outputs": [
    {
     "name": "stdout",
     "output_type": "stream",
     "text": [
      "[21, 35, 42, 56, 63, 84, 91]\n"
     ]
    }
   ],
   "source": [
    "lis = [18,21,29,32,35,42,56,60,63,71,84,90,91,100]\n",
    "ls_res=[x for x in lis if x%7 ==0]\n",
    "print(ls_res)"
   ]
  },
  {
   "attachments": {},
   "cell_type": "markdown",
   "metadata": {},
   "source": [
    "15) A partir de la lista de a continuación, contar la cantidad total de elementos que contiene, teniendo en cuenta que un elemento de la lista podría ser otra lista:<br>\n",
    "lis = [[1,2,3,4],'rojo','verde',[True,False,False],['uno','dos','tres']]"
   ]
  },
  {
   "cell_type": "code",
   "execution_count": 2,
   "metadata": {},
   "outputs": [
    {
     "name": "stdout",
     "output_type": "stream",
     "text": [
      "5\n",
      "La lista tiene 12 elementos en total.\n"
     ]
    }
   ],
   "source": [
    "lis = [[1,2,3,4],'rojo','verde',[True,False,False],['uno','dos','tres']]\n",
    "print(len(lis))\n",
    "\n",
    "def contar_elementos(lista):\n",
    "  \"\"\"Cuenta el número total de elementos en una lista, incluyendo elementos de listas anidadas.\n",
    "\n",
    "  Args:\n",
    "    lista: La lista a contar.\n",
    "\n",
    "  Returns:\n",
    "    El número total de elementos.\n",
    "  \"\"\"\n",
    "\n",
    "  contador = 0\n",
    "  for elemento in lista:\n",
    "    if isinstance(elemento, list):\n",
    "      contador += contar_elementos(elemento)  # Llamada recursiva para listas anidadas\n",
    "    else:\n",
    "      contador += 1\n",
    "  return contador\n",
    "\n",
    "# Ejemplo de uso:\n",
    "lis = [[1,2,3,4],'rojo','verde',[True,False,False],['uno','dos','tres']]\n",
    "total_elementos = contar_elementos(lis)\n",
    "print(\"La lista tiene\", total_elementos, \"elementos en total.\")"
   ]
  },
  {
   "attachments": {},
   "cell_type": "markdown",
   "metadata": {},
   "source": [
    "16) Tomar la lista del punto anterior y convertir cada elemento en una lista si no lo es"
   ]
  },
  {
   "cell_type": "code",
   "execution_count": 3,
   "metadata": {},
   "outputs": [
    {
     "name": "stdout",
     "output_type": "stream",
     "text": [
      "[[1, 2, 3, 4], ['rojo'], ['verde'], [True, False, False], ['uno', 'dos', 'tres']]\n"
     ]
    }
   ],
   "source": [
    "lis = [[1,2,3,4],'rojo','verde',[True,False,False],['uno','dos','tres']]\n",
    "\n",
    "# Convertir cada elemento en una lista\n",
    "lis_convertida = [[elemento] if not isinstance(elemento, list) else elemento for elemento in lis]\n",
    "\n",
    "print(lis_convertida)"
   ]
  }
 ],
 "metadata": {
  "interpreter": {
   "hash": "c85384e4cb51c8b72350f3a8712cc8351fdc3955e32a27f9b60c6242ab125f01"
  },
  "kernelspec": {
   "display_name": "Python 3 (ipykernel)",
   "language": "python",
   "name": "python3"
  },
  "language_info": {
   "codemirror_mode": {
    "name": "ipython",
    "version": 3
   },
   "file_extension": ".py",
   "mimetype": "text/x-python",
   "name": "python",
   "nbconvert_exporter": "python",
   "pygments_lexer": "ipython3",
   "version": "3.10.12"
  }
 },
 "nbformat": 4,
 "nbformat_minor": 4
}
