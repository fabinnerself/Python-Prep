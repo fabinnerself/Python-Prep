{
 "cells": [
  {
   "cell_type": "code",
   "execution_count": 8,
   "metadata": {},
   "outputs": [
    {
     "name": "stdout",
     "output_type": "stream",
     "text": [
      "123\n",
      "12.3\n"
     ]
    }
   ],
   "source": [
    "Str_var=\"123\"\n",
    "print(int(Str_var))\n",
    "\n",
    "Str_var=\"1a23\"\n",
    "# print(int(Str_var)) da error no puede convertir cadena 1a23\n",
    "\n",
    "#print(float(Str_var)) da error tambien\n",
    "\n",
    "Str_var=\"12.3\"\n",
    "print(float(Str_var))\n",
    "\n",
    "Str_var=\"12+ 4j\"\n",
    "#print(float(Str_var)) da error\n",
    "\n",
    "Str_var=\"12 + 4\"\n",
    "#print(float(Str_var)) da error"
   ]
  },
  {
   "cell_type": "code",
   "execution_count": 12,
   "metadata": {},
   "outputs": [
    {
     "name": "stdout",
     "output_type": "stream",
     "text": [
      "<class 'int'>\n",
      "10\n",
      "<class 'str'>\n",
      "10\n",
      "<class 'float'>\n",
      "10.2\n",
      "<class 'str'>\n",
      "10.2\n"
     ]
    }
   ],
   "source": [
    "x=10\n",
    "print(type(x))\n",
    "print(x)\n",
    "str_y=str(x)\n",
    "print(type(str_y))\n",
    "print(str_y)\n",
    "\n",
    "\n",
    "w=10.2\n",
    "print(type(w))\n",
    "print(w)\n",
    "str_w=str(w)\n",
    "print(type(str_w))\n",
    "print(str_w)"
   ]
  }
 ],
 "metadata": {
  "kernelspec": {
   "display_name": "Python 3",
   "language": "python",
   "name": "python3"
  },
  "language_info": {
   "codemirror_mode": {
    "name": "ipython",
    "version": 3
   },
   "file_extension": ".py",
   "mimetype": "text/x-python",
   "name": "python",
   "nbconvert_exporter": "python",
   "pygments_lexer": "ipython3",
   "version": "3.10.12"
  }
 },
 "nbformat": 4,
 "nbformat_minor": 2
}
