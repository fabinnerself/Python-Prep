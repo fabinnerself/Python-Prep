{
 "cells": [
  {
   "cell_type": "code",
   "execution_count": 6,
   "metadata": {},
   "outputs": [
    {
     "name": "stdout",
     "output_type": "stream",
     "text": [
      "uno\n",
      "{'primero': 'uno'}\n",
      "{'segundo': 'dos'}\n",
      "dos\n"
     ]
    }
   ],
   "source": [
    "primer_diccionario={}\n",
    "primer_diccionario['primero'] = 'uno'\n",
    "#{'primero': 'uno'}\n",
    "print(primer_diccionario['primero'])\n",
    "print({'primero': 'uno'})\n",
    "\n",
    "primer_diccionario={'segundo': 'dos'}\n",
    "print(primer_diccionario)\n",
    "print(primer_diccionario[\"segundo\"])\n"
   ]
  },
  {
   "cell_type": "code",
   "execution_count": 30,
   "metadata": {},
   "outputs": [
    {
     "name": "stdout",
     "output_type": "stream",
     "text": [
      "{'Colores Primarios': ['Rojo', 'Azul', 'Amarillo'], 'Colores secundarios': ['Naranja', 'Violeta', 'Verde'], 'Clave3': 10, 'Clave4': False}\n",
      "<class 'dict'>\n"
     ]
    }
   ],
   "source": [
    "mi_diccionario = {  'Colores Primarios': ['Rojo','Azul','Amarillo'], \n",
    "                    'Colores secundarios': ['Naranja','Violeta','Verde'], \n",
    "                    'Clave3': 10,\n",
    "                    'Clave4': False}\n",
    "print(mi_diccionario)\n",
    "print(type(mi_diccionario))"
   ]
  },
  {
   "cell_type": "code",
   "execution_count": 31,
   "metadata": {},
   "outputs": [
    {
     "name": "stdout",
     "output_type": "stream",
     "text": [
      "dict_keys(['Colores Primarios', 'Colores secundarios', 'Clave3'])\n",
      "dict_keys(['Colores Primarios', 'Colores secundarios', 'Clave3'])\n",
      "3\n"
     ]
    }
   ],
   "source": [
    "# mi_diccionario.pop(\"Clave4\") #elimina\n",
    "# print(mi_diccionario)\n",
    "# res=mi_diccionario.popitem() \n",
    "# mi_diccionario.popitem()\n",
    "# print(mi_diccionario)\n",
    "# del mi_diccionario[\"Clave4\"]\n",
    "\n",
    "arr_key=mi_diccionario.keys()\n",
    "print(arr_key)\n",
    "print(mi_diccionario.keys())\n",
    "\n",
    "print(len(mi_diccionario))"
   ]
  },
  {
   "cell_type": "code",
   "execution_count": 28,
   "metadata": {},
   "outputs": [
    {
     "name": "stdout",
     "output_type": "stream",
     "text": [
      "{}\n",
      "<class 'dict'>\n",
      "{}\n",
      "<class 'dict'>\n"
     ]
    }
   ],
   "source": [
    "dic_primero=dict()\n",
    "print(dic_primero)\n",
    "print(type(dic_primero))\n",
    "\n",
    "dic_segundo={}\n",
    "print(dic_segundo)\n",
    "print(type(dic_segundo))\n"
   ]
  },
  {
   "cell_type": "code",
   "execution_count": 29,
   "metadata": {},
   "outputs": [
    {
     "name": "stdout",
     "output_type": "stream",
     "text": [
      "{'uno': 1, 'dos': 2, 'tres': [1, 2, 3]}\n"
     ]
    }
   ],
   "source": [
    "dic_tercero={\"uno\":1,\"dos\":2,\"tres\":[1,2,3]}\n",
    "print(dic_tercero)"
   ]
  },
  {
   "cell_type": "code",
   "execution_count": 32,
   "metadata": {},
   "outputs": [
    {
     "name": "stdout",
     "output_type": "stream",
     "text": [
      "{'Argentina': 'Buenos Aires', 'Italia': 'Roma', 'Inglaterra': 'Londres'}\n"
     ]
    }
   ],
   "source": [
    "mi_tupla=\"Argentina\",\"Italia\",\"Inglaterra\"\n",
    "mi_dic1={mi_tupla[0]:\"Buenos Aires\",\n",
    "         mi_tupla[1]:\"Roma\",\n",
    "         mi_tupla[2]:\"Londres\",}\n",
    "print(mi_dic1)"
   ]
  },
  {
   "cell_type": "code",
   "execution_count": 34,
   "metadata": {},
   "outputs": [
    {
     "name": "stdout",
     "output_type": "stream",
     "text": [
      "{'Colores Primarios': (1, 2, 3), 'Colores secundarios': [11, 12, 13], 'Clave3': 10, 'Clave4': False}\n"
     ]
    }
   ],
   "source": [
    "dic_diccionario = {  'Colores Primarios':(1,2,3), \n",
    "                    'Colores secundarios': [11,12,13], \n",
    "                    'Clave3': 10,\n",
    "                    'Clave4': False}\n",
    "print(dic_diccionario)"
   ]
  },
  {
   "cell_type": "code",
   "execution_count": 38,
   "metadata": {},
   "outputs": [
    {
     "name": "stdout",
     "output_type": "stream",
     "text": [
      "{'Clave 1': 'Valor 1', 'Clave 2': [1, 2, 3, 4]}\n",
      "dict_values(['Valor 1', [1, 2, 3, 4]])\n",
      "dict_keys(['Clave 1', 'Clave 2'])\n"
     ]
    },
    {
     "data": {
      "text/plain": [
       "2"
      ]
     },
     "execution_count": 38,
     "metadata": {},
     "output_type": "execute_result"
    }
   ],
   "source": [
    "dic_dicionario_dic={\"Clave 1\":\"Valor 1\",\"Clave 2\":[1,2,3,4]}\n",
    "print(dic_dicionario_dic)\n",
    "print(dic_dicionario_dic.values())\n",
    "print(dic_dicionario_dic.keys())\n",
    "\n",
    "len(dic_dicionario_dic)\n"
   ]
  }
 ],
 "metadata": {
  "kernelspec": {
   "display_name": "Python 3",
   "language": "python",
   "name": "python3"
  },
  "language_info": {
   "codemirror_mode": {
    "name": "ipython",
    "version": 3
   },
   "file_extension": ".py",
   "mimetype": "text/x-python",
   "name": "python",
   "nbconvert_exporter": "python",
   "pygments_lexer": "ipython3",
   "version": "3.10.12"
  }
 },
 "nbformat": 4,
 "nbformat_minor": 2
}
