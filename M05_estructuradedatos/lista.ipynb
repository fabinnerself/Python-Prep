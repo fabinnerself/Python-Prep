{
 "cells": [
  {
   "cell_type": "code",
   "execution_count": 1,
   "metadata": {},
   "outputs": [
    {
     "name": "stdout",
     "output_type": "stream",
     "text": [
      "cereza\n"
     ]
    }
   ],
   "source": [
    "mi_lista = [\"manzana\", \"banana\", \"cereza\", \"dátil\"]\n",
    "tercer_elemento = mi_lista[2]\n",
    "print(tercer_elemento)  # salida: \"cereza\""
   ]
  },
  {
   "cell_type": "code",
   "execution_count": 2,
   "metadata": {},
   "outputs": [
    {
     "name": "stdout",
     "output_type": "stream",
     "text": [
      "['banana', 'cereza']\n"
     ]
    }
   ],
   "source": [
    "mi_lista = [\"manzana\", \"banana\", \"cereza\", \"dátil\"]\n",
    "rebanada = mi_lista[1:3]\n",
    "print(rebanada)  # salida: [\"banana\", \"cereza\"]"
   ]
  },
  {
   "cell_type": "code",
   "execution_count": 47,
   "metadata": {},
   "outputs": [
    {
     "name": "stdout",
     "output_type": "stream",
     "text": [
      "['manzana', 'banana', 'cereza']\n",
      "['manzana', 'cereza']\n",
      "['manzana', 'cereza', 'mandarina']\n",
      "['manzana', 'limon', 'cereza', 'mandarina']\n",
      "['manzana', 'limon', 'cereza', 'mandarina', 'naranjo', 'ciruelo', 'damasco']\n",
      "['manzana', 'limon', 'cereza', 'mandarina', 'naranjo', 'ciruelo', 'damasco', 'a', 'r', 'r', '_', 'o', 't', 'r', 'a', '1']\n",
      "limon\n",
      "['manzana', 'limon', 'mandarina', 'naranjo', 'ciruelo', 'damasco', 'a', 'r', 'r', '_', 'o', 't', 'r', 'a', '1']\n",
      "['1', '_', 'a', 'a', 'ciruelo', 'damasco', 'limon', 'mandarina', 'manzana', 'naranjo', 'o', 'r', 'r', 'r', 't']\n",
      "['t', 'r', 'r', 'r', 'o', 'naranjo', 'manzana', 'mandarina', 'limon', 'damasco', 'ciruelo', 'a', 'a', '_', '1']\n",
      "15\n",
      "['t', 'r', 'r', 'r', 'o', 'naranjo', 'manzana', 'mandarina', 'limon', 'damasco', 'ciruelo', 'a', 'a', '_', '1', 'frutilla']\n"
     ]
    }
   ],
   "source": [
    "mi_lista = [\"manzana\", \"banana\", \"cereza\", \"dátil\"]\n",
    "\n",
    "mi_lista.pop() #borra datil ultimo elemento\n",
    "print(mi_lista)\n",
    "\n",
    "mi_lista.pop(1) #borra \n",
    "print(mi_lista)\n",
    "\n",
    "mi_lista.append(\"mandarina\") #inserta ultima\n",
    "print(mi_lista)\n",
    "\n",
    "mi_lista.insert(1,\"limon\") # inserta entre posicion\n",
    "print(mi_lista)\n",
    "\n",
    "arr_otra=[\"naranjo\",\"ciruelo\",\"damasco\"]\n",
    "\n",
    "mi_lista.extend(arr_otra) # join arra\n",
    "print(mi_lista)\n",
    "\n",
    "mi_lista.extend(\"arr_otra1\") # inserta otra lista\n",
    "print(mi_lista)\n",
    "\n",
    "int_idx=mi_lista.index(\"limon\") #  busca limon...\n",
    "print(mi_lista[int_idx])\n",
    "\n",
    "mi_lista.remove(\"cereza\") # borra\n",
    "print(mi_lista)\n",
    "\n",
    "mi_lista.sort() # ordena\n",
    "print(mi_lista)\n",
    "\n",
    "mi_lista.sort(reverse=True) # ordena\n",
    "print(mi_lista)\n",
    "\n",
    "numero_elementos = len(mi_lista)\n",
    "print(numero_elementos)  # Imprimirá 7\n",
    "\n",
    "mi_lista.append(\"frutilla\") # inserta al final\n",
    "print(mi_lista)\n"
   ]
  },
  {
   "cell_type": "code",
   "execution_count": 18,
   "metadata": {},
   "outputs": [
    {
     "name": "stdout",
     "output_type": "stream",
     "text": [
      "[6, 9, 43]\n"
     ]
    }
   ],
   "source": [
    "numeros = [1, 6, 2, 9, 43]\n",
    "numeros_mayores_a_cinco = [num for num in numeros if num > 5]\n",
    "print(numeros_mayores_a_cinco)  # Imprimirá: [6, 8, 9, 43]"
   ]
  },
  {
   "cell_type": "code",
   "execution_count": 19,
   "metadata": {},
   "outputs": [
    {
     "name": "stdout",
     "output_type": "stream",
     "text": [
      "['H', 'e', 'n', 'r', 'i']\n"
     ]
    }
   ],
   "source": [
    "palabra = \"Henri\"\n",
    "palabra_separada = list(palabra)\n",
    "print(palabra_separada)"
   ]
  },
  {
   "cell_type": "code",
   "execution_count": 20,
   "metadata": {},
   "outputs": [
    {
     "name": "stdout",
     "output_type": "stream",
     "text": [
      "Henri\n"
     ]
    }
   ],
   "source": [
    "palabra_separada = ['H', 'e', 'n', 'r', 'i']\n",
    "palabra_arreglada = \"\".join(palabra_separada)\n",
    "print(palabra_arreglada)  # Imprimirá: Henri"
   ]
  },
  {
   "cell_type": "code",
   "execution_count": 27,
   "metadata": {},
   "outputs": [
    {
     "name": "stdout",
     "output_type": "stream",
     "text": [
      "2\n",
      "3\n",
      "4\n",
      "5\n"
     ]
    }
   ],
   "source": [
    "numeros = [1, 2, 3, 4]\n",
    "for numero in numeros:\n",
    "    print(numero+1)"
   ]
  },
  {
   "cell_type": "code",
   "execution_count": 45,
   "metadata": {},
   "outputs": [
    {
     "name": "stdout",
     "output_type": "stream",
     "text": [
      "['python', 2, 32.2, (5+5j), [1, 2, 3], ['uno', 'dos']]\n",
      "<class 'list'>\n",
      "<class 'list'>\n",
      "<class 'list'>\n",
      "2\n",
      "dos\n",
      "[2, 32.2, (5+5j)]\n",
      "[[1, 2, 3]]\n",
      "1\n",
      "uno\n",
      "['python', 2]\n",
      "[(5+5j), [1, 2, 3], ['uno', 'dos']]\n"
     ]
    }
   ],
   "source": [
    "arr_lista1=[\"python\",2,32.2,5+5j,[1,2,3],[\"uno\",\"dos\"]]\n",
    "print(arr_lista1)\n",
    "print(type(arr_lista1))\n",
    "\n",
    "arr_colores=[\"rojo\",\"amarillo\"]\n",
    "\n",
    "arr_num=[1,2,4]\n",
    "\n",
    "arr_num_comp=[1+1j,2+2j,3+4j]\n",
    "\n",
    "arr_vacio=[]\n",
    "\n",
    "print(type(arr_colores))\n",
    "print(type(arr_num_comp))\n",
    "\n",
    "# Accediendo al elemento 20\n",
    "print(arr_lista1[4][1])  # Imprimirá: 2\n",
    "\n",
    "# Accediendo al elemento dos\n",
    "print(arr_lista1[5][1])  # Imprimirá: 2\n",
    "\n",
    "print(arr_lista1[1:4])\n",
    "\n",
    "print(arr_lista1[4:5])\n",
    "\n",
    "\n",
    "sublista = arr_lista1[4:]  # Crea una sublista desde el índice 5 hasta el final\n",
    "print(sublista[0][0])  # Imprimirá: uno\n",
    "\n",
    "sublista = arr_lista1[5:]  # Crea una sublista desde el índice 5 hasta el final\n",
    "print(sublista[0][0])  # Imprimirá: uno\n",
    "\n",
    "\n",
    "print(arr_lista1[:2])\n",
    "\n",
    "print(arr_lista1[3:])\n"
   ]
  },
  {
   "cell_type": "code",
   "execution_count": 48,
   "metadata": {},
   "outputs": [
    {
     "name": "stdout",
     "output_type": "stream",
     "text": [
      "['manzana', 'banana', 'cereza']\n",
      "['manzana', 'cereza']\n"
     ]
    }
   ],
   "source": [
    "mi_lista = [\"manzana\", \"banana\", \"cereza\", \"dátil\"]\n",
    "\n",
    "mi_lista.pop() #borra datil ultimo elemento\n",
    "print(mi_lista)\n",
    "\n",
    "mi_lista.pop(1) #borra  banana (1 posicion)\n",
    "print(mi_lista)"
   ]
  },
  {
   "cell_type": "code",
   "execution_count": 50,
   "metadata": {},
   "outputs": [
    {
     "name": "stdout",
     "output_type": "stream",
     "text": [
      "[22, 23, 24, 22, 23, 24, 22, 23, 24, 22, 23, 24]\n"
     ]
    }
   ],
   "source": [
    "lista=[22,23,24]\n",
    "print(lista*4)"
   ]
  },
  {
   "cell_type": "code",
   "execution_count": 51,
   "metadata": {},
   "outputs": [
    {
     "name": "stdout",
     "output_type": "stream",
     "text": [
      "['Madrid', 'París', 'Tokio']\n",
      "['España', 'Francia', 'Japón']\n",
      "['Europa', 'Europa', 'Asia']\n"
     ]
    }
   ],
   "source": [
    "arr_dic = [\"ciudad\", \"pais\", \"continente\"]\n",
    "datos = {\n",
    "    \"ciudad\": [\"Madrid\", \"París\", \"Tokio\"],\n",
    "    \"pais\": [\"España\", \"Francia\", \"Japón\"],\n",
    "    \"continente\": [\"Europa\", \"Europa\", \"Asia\"]\n",
    "}\n",
    "\n",
    "# Accediendo a las sublistas\n",
    "ciudades = datos[\"ciudad\"]\n",
    "paises = datos[\"pais\"]\n",
    "continentes = datos[\"continente\"]\n",
    "\n",
    "print(ciudades)  # Imprimirá: ['Madrid', 'París', 'Tokio']\n",
    "print(paises)   # Imprimirá: ['España', 'Francia', 'Japón']\n",
    "print(continentes)  # Imprimirá: ['Europa', 'Europa', 'Asia']"
   ]
  },
  {
   "cell_type": "code",
   "execution_count": 53,
   "metadata": {},
   "outputs": [
    {
     "name": "stdout",
     "output_type": "stream",
     "text": [
      "Elementos de la tupla:\n",
      "10\n",
      "11\n",
      "12\n",
      "13\n",
      "14\n"
     ]
    }
   ],
   "source": [
    " # Crear la tupla\n",
    "tupla_numeros = tuple(range(10, 15))\n",
    "\n",
    "# Imprimir los elementos de la tupla\n",
    "print(\"Elementos de la tupla:\")\n",
    "for numero in tupla_numeros:\n",
    "    print(numero)"
   ]
  },
  {
   "cell_type": "code",
   "execution_count": 1,
   "metadata": {},
   "outputs": [
    {
     "name": "stdout",
     "output_type": "stream",
     "text": [
      "[1, 6]\n"
     ]
    }
   ],
   "source": [
    "arr_ciudades = ['La Paz', 'Oruro', 'Santa Cruz', 'Sao Paulo', 'Paris', 'Bonn', 'Oruro', 'New York', 'Washington', 'Detroit']\n",
    "ciudad_buscada = \"Oruro\"\n",
    "indices = []\n",
    "\n",
    "for i in range(len(arr_ciudades)):\n",
    "    if arr_ciudades[i] == ciudad_buscada:\n",
    "        indices.append(i)\n",
    "\n",
    "print(indices)  # Imprimirá: [1, 6]"
   ]
  }
 ],
 "metadata": {
  "kernelspec": {
   "display_name": "Python 3",
   "language": "python",
   "name": "python3"
  },
  "language_info": {
   "codemirror_mode": {
    "name": "ipython",
    "version": 3
   },
   "file_extension": ".py",
   "mimetype": "text/x-python",
   "name": "python",
   "nbconvert_exporter": "python",
   "pygments_lexer": "ipython3",
   "version": "3.10.12"
  }
 },
 "nbformat": 4,
 "nbformat_minor": 2
}
