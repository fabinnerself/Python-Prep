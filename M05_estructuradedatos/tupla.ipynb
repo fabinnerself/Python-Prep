{
 "cells": [
  {
   "cell_type": "code",
   "execution_count": 7,
   "metadata": {},
   "outputs": [
    {
     "name": "stdout",
     "output_type": "stream",
     "text": [
      "(1, 2, 3)\n",
      "((1+1j), (2+3j), (343+4j))\n",
      "('uno', 'dos', 'tres', 'cuatro')\n",
      "(2, 3, 'uno', 'dos', 'tres', 'cuatro', (2+3j), (343+4j), [1, 2, 3])\n",
      "1\n",
      "2\n",
      "3\n"
     ]
    }
   ],
   "source": [
    "tupla = 1, 2, 3\n",
    "print(tupla)\n",
    "\n",
    "tup_complex=1+1j,2+3j,343+4j\n",
    "print(tup_complex)\n",
    "\n",
    "tup_str=\"uno\",\"dos\",\"tres\",\"cuatro\"\n",
    "print(tup_str)\n",
    "\n",
    "tup_mix=2, 3,\"uno\",\"dos\",\"tres\",\"cuatro\",2+3j,343+4j,[1,2,3]\n",
    "print(tup_mix)\n",
    "\n",
    "a,b,c=tupla\n",
    "\n",
    "print(a)\n",
    "print(b)\n",
    "print(c)"
   ]
  },
  {
   "cell_type": "code",
   "execution_count": 9,
   "metadata": {},
   "outputs": [
    {
     "name": "stdout",
     "output_type": "stream",
     "text": [
      "(11, 22, 'Henry')\n"
     ]
    }
   ],
   "source": [
    "x=11\n",
    "y=22\n",
    "z='Henry'\n",
    "mi_tupla= x,y,z\n",
    "print(mi_tupla)"
   ]
  },
  {
   "cell_type": "code",
   "execution_count": 13,
   "metadata": {},
   "outputs": [
    {
     "name": "stdout",
     "output_type": "stream",
     "text": [
      "(11, 22, 'Henry')\n",
      "<class 'tuple'>\n"
     ]
    }
   ],
   "source": [
    "lista_impares= list(mi_tupla)\n",
    "nueva_tupla=tuple(lista_impares)\n",
    "\n",
    "print(nueva_tupla)\n",
    "print(type(nueva_tupla))"
   ]
  },
  {
   "cell_type": "code",
   "execution_count": 26,
   "metadata": {},
   "outputs": [
    {
     "name": "stdout",
     "output_type": "stream",
     "text": [
      "Martes\n"
     ]
    }
   ],
   "source": [
    "tup_dias=\"Lunes\",\"Martes\",\"Miercoles\",\"Jueves\",\"Viernes\",\"Sabado\",\"Domingo\"\n",
    "\n",
    "str_dia=tup_dias[1]\n",
    "print(str_dia)\n",
    "#str_dia=tup_dias['Lunes'] no se puede str_dia=tup_dias[\"Lunes\"]\n",
    "\n"
   ]
  },
  {
   "cell_type": "code",
   "execution_count": 17,
   "metadata": {},
   "outputs": [
    {
     "data": {
      "text/plain": [
       "True"
      ]
     },
     "execution_count": 17,
     "metadata": {},
     "output_type": "execute_result"
    }
   ],
   "source": [
    "\"Jueves\" in tup_dias"
   ]
  },
  {
   "cell_type": "code",
   "execution_count": 19,
   "metadata": {},
   "outputs": [
    {
     "name": "stdout",
     "output_type": "stream",
     "text": [
      "True\n",
      "True\n"
     ]
    }
   ],
   "source": [
    "bol_res=\"Viernes\" in tup_dias\n",
    "print(bol_res)\n",
    "\n",
    "str_diaz=\"Martes\"\n",
    "bol_res=str_diaz in tup_dias\n",
    "print(bol_res)"
   ]
  },
  {
   "cell_type": "code",
   "execution_count": 23,
   "metadata": {},
   "outputs": [
    {
     "name": "stdout",
     "output_type": "stream",
     "text": [
      "2\n",
      "1\n",
      "0\n"
     ]
    }
   ],
   "source": [
    "tup_rep=1,1,2,3,4,5\n",
    "\n",
    "int_res=tup_rep.count(1)\n",
    "print(int_res)\n",
    "\n",
    "int_res=tup_rep.count(3)\n",
    "print(int_res)\n",
    "\n",
    "int_res=tup_rep.count(7)\n",
    "print(int_res)\n"
   ]
  },
  {
   "cell_type": "code",
   "execution_count": 24,
   "metadata": {},
   "outputs": [
    {
     "name": "stdout",
     "output_type": "stream",
     "text": [
      "<class 'tuple'>\n",
      "<class 'str'>\n"
     ]
    }
   ],
   "source": [
    "tup_unit=\"uno\",\n",
    "print(type(tup_unit))\n",
    "\n",
    "tup_str=\"one\"\n",
    "print(type(tup_str))"
   ]
  },
  {
   "cell_type": "code",
   "execution_count": 27,
   "metadata": {},
   "outputs": [
    {
     "data": {
      "text/plain": [
       "('Martes', 'Miercoles')"
      ]
     },
     "execution_count": 27,
     "metadata": {},
     "output_type": "execute_result"
    }
   ],
   "source": [
    "tup_dias[1:3] #siempre va de indice 1 hasta 2 "
   ]
  },
  {
   "cell_type": "code",
   "execution_count": 34,
   "metadata": {},
   "outputs": [
    {
     "name": "stdout",
     "output_type": "stream",
     "text": [
      "1\n",
      "9\n",
      "11\n",
      "7\n",
      "9\n",
      "11\n"
     ]
    }
   ],
   "source": [
    "tup_impares=1,3,5,7,9,11\n",
    "\n",
    "prim=tup_impares[0]\n",
    "cto=tup_impares[4]\n",
    "qto=tup_impares[5]\n",
    "\n",
    "_,_,_,cuarto,quinto,sexto=tup_impares\n",
    "\n",
    "print(prim)\n",
    "print(cto)\n",
    "print(qto)\n",
    "print(cuarto)\n",
    "print(quinto)\n",
    "print(sexto)"
   ]
  },
  {
   "cell_type": "code",
   "execution_count": 36,
   "metadata": {},
   "outputs": [],
   "source": [
    "arr_lista=list(tup_dias)\n",
    "tup_nva_tup=tuple(arr_lista)\n"
   ]
  }
 ],
 "metadata": {
  "kernelspec": {
   "display_name": "Python 3",
   "language": "python",
   "name": "python3"
  },
  "language_info": {
   "codemirror_mode": {
    "name": "ipython",
    "version": 3
   },
   "file_extension": ".py",
   "mimetype": "text/x-python",
   "name": "python",
   "nbconvert_exporter": "python",
   "pygments_lexer": "ipython3",
   "version": "3.10.12"
  }
 },
 "nbformat": 4,
 "nbformat_minor": 2
}
