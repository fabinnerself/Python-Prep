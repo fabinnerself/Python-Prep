{
 "cells": [
  {
   "attachments": {},
   "cell_type": "markdown",
   "metadata": {},
   "source": [
    "## Estructuras de Datos"
   ]
  },
  {
   "attachments": {},
   "cell_type": "markdown",
   "metadata": {},
   "source": [
    "1) Crear una lista que contenga nombres de ciudades del mundo que contenga más de 5 elementos e imprimir por pantalla"
   ]
  },
  {
   "cell_type": "code",
   "execution_count": 2,
   "metadata": {},
   "outputs": [
    {
     "name": "stdout",
     "output_type": "stream",
     "text": [
      "['La Paz', 'Oruro', 'Santa Cruz', 'Sao Paulo', 'Paris']\n"
     ]
    }
   ],
   "source": [
    "arr_ciudades=[\"La Paz\",\"Oruro\",\"Santa Cruz\",\"Sao Paulo\",\"Paris\"]\n",
    "print(arr_ciudades)"
   ]
  },
  {
   "attachments": {},
   "cell_type": "markdown",
   "metadata": {},
   "source": [
    "2) Imprimir por pantalla el segundo elemento de la lista"
   ]
  },
  {
   "cell_type": "code",
   "execution_count": 33,
   "metadata": {},
   "outputs": [
    {
     "name": "stdout",
     "output_type": "stream",
     "text": [
      "Santa Cruz\n"
     ]
    }
   ],
   "source": [
    "print(arr_ciudades[2]) #indice 2\n",
    "print(arr_ciudades[1]) # segundo elemento\n"
   ]
  },
  {
   "attachments": {},
   "cell_type": "markdown",
   "metadata": {},
   "source": [
    "3) Imprimir por pantalla del segundo al cuarto elemento"
   ]
  },
  {
   "cell_type": "code",
   "execution_count": 35,
   "metadata": {},
   "outputs": [
    {
     "name": "stdout",
     "output_type": "stream",
     "text": [
      "['Santa Cruz', 'Sao Paulo']\n"
     ]
    }
   ],
   "source": [
    "print(arr_ciudades[1:4])"
   ]
  },
  {
   "attachments": {},
   "cell_type": "markdown",
   "metadata": {},
   "source": [
    "4) Visualizar el tipo de dato de la lista"
   ]
  },
  {
   "cell_type": "code",
   "execution_count": 37,
   "metadata": {},
   "outputs": [
    {
     "name": "stdout",
     "output_type": "stream",
     "text": [
      "<class 'list'>\n"
     ]
    }
   ],
   "source": [
    "print(type(arr_ciudades))"
   ]
  },
  {
   "attachments": {},
   "cell_type": "markdown",
   "metadata": {},
   "source": [
    "5) Visualizar todos los elementos de la lista a partir del tercero de manera genérica, es decir, sin explicitar la posición del último elemento"
   ]
  },
  {
   "cell_type": "code",
   "execution_count": 3,
   "metadata": {},
   "outputs": [
    {
     "name": "stdout",
     "output_type": "stream",
     "text": [
      "['Sao Paulo', 'Paris']\n",
      "['Paris']\n"
     ]
    }
   ],
   "source": [
    "print(arr_ciudades[3:]) # indice 3\n",
    "print(arr_ciudades[4:]) # 3er elemento"
   ]
  },
  {
   "attachments": {},
   "cell_type": "markdown",
   "metadata": {},
   "source": [
    "6) Visualizar los primeros 4 elementos de la lista"
   ]
  },
  {
   "cell_type": "code",
   "execution_count": 39,
   "metadata": {},
   "outputs": [
    {
     "name": "stdout",
     "output_type": "stream",
     "text": [
      "['La Paz', 'Oruro', 'Santa Cruz', 'Sao Paulo']\n"
     ]
    }
   ],
   "source": [
    "print(arr_ciudades[:4])"
   ]
  },
  {
   "attachments": {},
   "cell_type": "markdown",
   "metadata": {},
   "source": [
    "7) Agregar una ciudad más a la lista que ya exista y otra que no ¿Arroja algún tipo de error?"
   ]
  },
  {
   "cell_type": "code",
   "execution_count": 49,
   "metadata": {},
   "outputs": [
    {
     "name": "stdout",
     "output_type": "stream",
     "text": [
      "['La Paz', 'Oruro', 'Santa Cruz', 'Sao Paulo', 'Paris', 'Bonn', 'Oruro']\n"
     ]
    }
   ],
   "source": [
    "arr_ciudades.append(\"Bonn\")\n",
    "arr_ciudades.append(\"Oruro\")\n",
    "print(arr_ciudades)"
   ]
  },
  {
   "attachments": {},
   "cell_type": "markdown",
   "metadata": {},
   "source": [
    "8) Agregar otra ciudad, pero en la cuarta posición"
   ]
  },
  {
   "cell_type": "code",
   "execution_count": 45,
   "metadata": {},
   "outputs": [
    {
     "name": "stdout",
     "output_type": "stream",
     "text": [
      "['La Paz', 'Oruro', 'Santa Cruz', 'Sao Paulo', 'Beni', 'Paris', 'Bonn', 'La Paz']\n"
     ]
    }
   ],
   "source": [
    "arr_ciudades.insert(4,\"Beni\") #indice 3\n",
    "print(arr_ciudades)\n",
    "arr_ciudades.insert(3,\"Beni\") #4ta pos\n",
    "print(arr_ciudades)"
   ]
  },
  {
   "attachments": {},
   "cell_type": "markdown",
   "metadata": {},
   "source": [
    "9) Concatenar otra lista a la ya creada"
   ]
  },
  {
   "cell_type": "code",
   "execution_count": 50,
   "metadata": {},
   "outputs": [
    {
     "name": "stdout",
     "output_type": "stream",
     "text": [
      "['La Paz', 'Oruro', 'Santa Cruz', 'Sao Paulo', 'Paris', 'Bonn', 'Oruro', 'New York', 'Washington', 'Detroit']\n"
     ]
    }
   ],
   "source": [
    "arr_cities=[\"New York\",\"Washington\",\"Detroit\"]\n",
    "arr_ciudades.extend(arr_cities)\n",
    "print(arr_ciudades)"
   ]
  },
  {
   "attachments": {},
   "cell_type": "markdown",
   "metadata": {},
   "source": [
    "10) Encontrar el índice de la ciudad que en el punto 7 agregamos duplicada. ¿Se nota alguna particularidad?"
   ]
  },
  {
   "cell_type": "code",
   "execution_count": 54,
   "metadata": {},
   "outputs": [
    {
     "name": "stdout",
     "output_type": "stream",
     "text": [
      "1\n"
     ]
    }
   ],
   "source": [
    "idx=arr_ciudades.index(\"Oruro\")\n",
    "print(idx) #ejecutando varias veces siempre muestra 1"
   ]
  },
  {
   "attachments": {},
   "cell_type": "markdown",
   "metadata": {},
   "source": [
    "11) ¿Qué pasa si se busca un elemento que no existe?"
   ]
  },
  {
   "cell_type": "code",
   "execution_count": 1,
   "metadata": {},
   "outputs": [
    {
     "ename": "NameError",
     "evalue": "name 'arr_ciudades' is not defined",
     "output_type": "error",
     "traceback": [
      "\u001b[0;31m---------------------------------------------------------------------------\u001b[0m",
      "\u001b[0;31mNameError\u001b[0m                                 Traceback (most recent call last)",
      "Cell \u001b[0;32mIn[1], line 1\u001b[0m\n\u001b[0;32m----> 1\u001b[0m idx\u001b[38;5;241m=\u001b[39m\u001b[43marr_ciudades\u001b[49m\u001b[38;5;241m.\u001b[39mindex(\u001b[38;5;124m\"\u001b[39m\u001b[38;5;124mOrurox\u001b[39m\u001b[38;5;124m\"\u001b[39m)\n\u001b[1;32m      2\u001b[0m \u001b[38;5;28mprint\u001b[39m(idx) \u001b[38;5;66;03m#muestra error\u001b[39;00m\n",
      "\u001b[0;31mNameError\u001b[0m: name 'arr_ciudades' is not defined"
     ]
    }
   ],
   "source": [
    "idx=arr_ciudades.index(\"Orurox\")\n",
    "print(idx) #muestra error"
   ]
  },
  {
   "attachments": {},
   "cell_type": "markdown",
   "metadata": {},
   "source": [
    "12) Eliminar un elemento de la lista"
   ]
  },
  {
   "cell_type": "code",
   "execution_count": 56,
   "metadata": {},
   "outputs": [
    {
     "name": "stdout",
     "output_type": "stream",
     "text": [
      "['La Paz', 'Oruro', 'Santa Cruz', 'Sao Paulo', 'Paris', 'Oruro', 'New York', 'Washington', 'Detroit']\n"
     ]
    }
   ],
   "source": [
    "arr_ciudades.remove(\"Bonn\")\n",
    "print(arr_ciudades)"
   ]
  },
  {
   "attachments": {},
   "cell_type": "markdown",
   "metadata": {},
   "source": [
    "13) ¿Qué pasa si el elemento a eliminar no existe?"
   ]
  },
  {
   "cell_type": "code",
   "execution_count": 57,
   "metadata": {},
   "outputs": [
    {
     "ename": "ValueError",
     "evalue": "list.remove(x): x not in list",
     "output_type": "error",
     "traceback": [
      "\u001b[0;31m---------------------------------------------------------------------------\u001b[0m",
      "\u001b[0;31mValueError\u001b[0m                                Traceback (most recent call last)",
      "Cell \u001b[0;32mIn[57], line 1\u001b[0m\n\u001b[0;32m----> 1\u001b[0m \u001b[43marr_ciudades\u001b[49m\u001b[38;5;241;43m.\u001b[39;49m\u001b[43mremove\u001b[49m\u001b[43m(\u001b[49m\u001b[38;5;124;43m\"\u001b[39;49m\u001b[38;5;124;43mBonn\u001b[39;49m\u001b[38;5;124;43m\"\u001b[39;49m\u001b[43m)\u001b[49m\n\u001b[1;32m      2\u001b[0m \u001b[38;5;28mprint\u001b[39m(arr_ciudades)\n",
      "\u001b[0;31mValueError\u001b[0m: list.remove(x): x not in list"
     ]
    }
   ],
   "source": [
    "arr_ciudades.remove(\"Bonn\")\n",
    "print(arr_ciudades) #muestra error \"ValueError\"..."
   ]
  },
  {
   "attachments": {},
   "cell_type": "markdown",
   "metadata": {},
   "source": [
    "14) Extraer el úlimo elemento de la lista, guardarlo en una variable e imprimirlo"
   ]
  },
  {
   "cell_type": "code",
   "execution_count": 58,
   "metadata": {},
   "outputs": [
    {
     "name": "stdout",
     "output_type": "stream",
     "text": [
      "Detroit\n",
      "['La Paz', 'Oruro', 'Santa Cruz', 'Sao Paulo', 'Paris', 'Oruro', 'New York', 'Washington']\n"
     ]
    }
   ],
   "source": [
    "str_pop=arr_ciudades.pop()\n",
    "print(str_pop)\n",
    "print(arr_ciudades)"
   ]
  },
  {
   "attachments": {},
   "cell_type": "markdown",
   "metadata": {},
   "source": [
    "15) Mostrar la lista multiplicada por 4"
   ]
  },
  {
   "cell_type": "code",
   "execution_count": 59,
   "metadata": {},
   "outputs": [
    {
     "name": "stdout",
     "output_type": "stream",
     "text": [
      "['La Paz', 'Oruro', 'Santa Cruz', 'Sao Paulo', 'Paris', 'Oruro', 'New York', 'Washington', 'La Paz', 'Oruro', 'Santa Cruz', 'Sao Paulo', 'Paris', 'Oruro', 'New York', 'Washington', 'La Paz', 'Oruro', 'Santa Cruz', 'Sao Paulo', 'Paris', 'Oruro', 'New York', 'Washington', 'La Paz', 'Oruro', 'Santa Cruz', 'Sao Paulo', 'Paris', 'Oruro', 'New York', 'Washington']\n"
     ]
    }
   ],
   "source": [
    "print(arr_ciudades*4)"
   ]
  },
  {
   "attachments": {},
   "cell_type": "markdown",
   "metadata": {},
   "source": [
    "16) Crear una tupla que contenga los números enteros del 1 al 20"
   ]
  },
  {
   "cell_type": "code",
   "execution_count": 24,
   "metadata": {},
   "outputs": [
    {
     "name": "stdout",
     "output_type": "stream",
     "text": [
      "(1, 2, 3, 4, 5, 6, 7, 8, 9, 10, 11, 12, 13, 14, 15, 16, 17, 18, 19, 20)\n"
     ]
    }
   ],
   "source": [
    "numeros = []\n",
    "for i in range(1, 21):\n",
    "    numeros.append(i)\n",
    "\n",
    "tupla_numeros = tuple(numeros)\n",
    "print(tupla_numeros)"
   ]
  },
  {
   "attachments": {},
   "cell_type": "markdown",
   "metadata": {},
   "source": [
    "17) Imprimir desde el índice 10 al 15 de la tupla"
   ]
  },
  {
   "cell_type": "code",
   "execution_count": 27,
   "metadata": {},
   "outputs": [
    {
     "name": "stdout",
     "output_type": "stream",
     "text": [
      "(10, 11, 12, 13, 14, 15)\n"
     ]
    }
   ],
   "source": [
    "print(tupla_numeros[9:15])"
   ]
  },
  {
   "attachments": {},
   "cell_type": "markdown",
   "metadata": {},
   "source": [
    "18) Evaluar si los números 20 y 30 están dentro de la tupla"
   ]
  },
  {
   "cell_type": "code",
   "execution_count": 32,
   "metadata": {},
   "outputs": [
    {
     "name": "stdout",
     "output_type": "stream",
     "text": [
      "20  esta en la tupla.\n",
      "21  no esta en la tupla.\n",
      "22  no esta en la tupla.\n",
      "23  no esta en la tupla.\n",
      "24  no esta en la tupla.\n",
      "25  no esta en la tupla.\n",
      "26  no esta en la tupla.\n",
      "27  no esta en la tupla.\n",
      "28  no esta en la tupla.\n",
      "29  no esta en la tupla.\n"
     ]
    }
   ],
   "source": [
    "for j in range(20,30):\n",
    "    try:\n",
    "        str_idx = tupla_numeros.index(j)\n",
    "        print(j,\" esta en la tupla.\")\n",
    "    except ValueError:\n",
    "        print(j,\" no esta en la tupla.\")\n",
    "\n",
    "    "
   ]
  },
  {
   "attachments": {},
   "cell_type": "markdown",
   "metadata": {},
   "source": [
    "19) Con la lista creada en el punto 1, validar la existencia del elemento 'París' y si no existe, agregarlo. Utilizar una variable e informar lo sucedido."
   ]
  },
  {
   "cell_type": "code",
   "execution_count": 13,
   "metadata": {},
   "outputs": [
    {
     "name": "stdout",
     "output_type": "stream",
     "text": [
      "París ha sido añadido a la lista.\n",
      "['La Paz', 'Oruro', 'Santa Cruz', 'Sao Paulo', 'París']\n"
     ]
    }
   ],
   "source": [
    "str_busq = \"París\"\n",
    "\n",
    "try:\n",
    "    str_idx = arr_ciudades.index(str_busq)\n",
    "    print(f\"{str_busq} ya existe en la lista.\")\n",
    "except ValueError:\n",
    "    arr_ciudades.append(str_busq)\n",
    "    print(f\"{str_busq} ha sido añadido a la lista.\")\n",
    "\n",
    "print(arr_ciudades)\n"
   ]
  },
  {
   "attachments": {},
   "cell_type": "markdown",
   "metadata": {},
   "source": [
    "20) Mostrar la cantidad de veces que se encuentra un elemento específico dentro de la tupla y de la lista"
   ]
  },
  {
   "cell_type": "code",
   "execution_count": 14,
   "metadata": {},
   "outputs": [
    {
     "name": "stdout",
     "output_type": "stream",
     "text": [
      "El elemento 'Paris' aparece 2 veces en la lista.\n"
     ]
    }
   ],
   "source": [
    "arr_ciudades = [\"La Paz\", \"Oruro\", \"Santa Cruz\", \"Sao Paulo\", \"Paris\", \"Paris\"]\n",
    "elemento_a_buscar = \"Paris\"\n",
    "\n",
    "# Contar la cantidad de veces que aparece el elemento\n",
    "cantidad_apariciones = arr_ciudades.count(elemento_a_buscar)\n",
    "\n",
    "print(f\"El elemento '{elemento_a_buscar}' aparece {cantidad_apariciones} veces en la lista.\")"
   ]
  },
  {
   "attachments": {},
   "cell_type": "markdown",
   "metadata": {},
   "source": [
    "21) Convertir la tupla en una lista"
   ]
  },
  {
   "cell_type": "code",
   "execution_count": 17,
   "metadata": {},
   "outputs": [
    {
     "name": "stdout",
     "output_type": "stream",
     "text": [
      "('Paris', 'Paris', 'Paris', 'Paris')\n",
      "['Paris', 'Paris', 'Paris', 'Paris']\n"
     ]
    }
   ],
   "source": [
    "tup_busq=(elemento_a_buscar,elemento_a_buscar,elemento_a_buscar,elemento_a_buscar)\n",
    "arr_lista=list(tup_busq)\n",
    "print(tup_busq)\n",
    "print(arr_lista)"
   ]
  },
  {
   "attachments": {},
   "cell_type": "markdown",
   "metadata": {},
   "source": [
    "22) Desempaquetar solo los primeros 3 elementos de la tupla en 3 variables"
   ]
  },
  {
   "cell_type": "code",
   "execution_count": 18,
   "metadata": {},
   "outputs": [
    {
     "name": "stdout",
     "output_type": "stream",
     "text": [
      "Paris\n",
      "Paris\n",
      "Paris\n"
     ]
    }
   ],
   "source": [
    "primero, segundo, tercero = tup_busq[:3]\n",
    "\n",
    "print(primero)\n",
    "print(segundo)\n",
    "print(tercero)\n"
   ]
  },
  {
   "attachments": {},
   "cell_type": "markdown",
   "metadata": {},
   "source": [
    "23) Crear un diccionario utilizando la lista crada en el punto 1, asignandole la clave \"ciudad\". Agregar tambien otras claves, como puede ser \"Pais\" y \"Continente\"."
   ]
  },
  {
   "cell_type": "code",
   "execution_count": 5,
   "metadata": {},
   "outputs": [
    {
     "name": "stdout",
     "output_type": "stream",
     "text": [
      "{'ciudad': ['Madrid', 'París', 'Tokio'], 'pais': ['España', 'Francia', 'Japón'], 'continente': ['Europa', 'Europa', 'Asia']}\n"
     ]
    }
   ],
   "source": [
    "arr_dic = {\n",
    "    \"ciudad\": [\"Madrid\", \"París\", \"Tokio\"],\n",
    "    \"pais\": [\"España\", \"Francia\", \"Japón\"],\n",
    "    \"continente\": [\"Europa\", \"Europa\", \"Asia\"]\n",
    "}\n",
    "print(arr_dic)"
   ]
  },
  {
   "attachments": {},
   "cell_type": "markdown",
   "metadata": {},
   "source": [
    "24) Imprimir las claves del diccionario"
   ]
  },
  {
   "cell_type": "code",
   "execution_count": 6,
   "metadata": {},
   "outputs": [
    {
     "name": "stdout",
     "output_type": "stream",
     "text": [
      "ciudad\n",
      "pais\n",
      "continente\n"
     ]
    }
   ],
   "source": [
    "for idx in arr_dic:\n",
    "    print(idx)"
   ]
  },
  {
   "attachments": {},
   "cell_type": "markdown",
   "metadata": {},
   "source": [
    "25) Imprimir las ciudades a través de su clave"
   ]
  },
  {
   "cell_type": "code",
   "execution_count": 7,
   "metadata": {},
   "outputs": [
    {
     "name": "stdout",
     "output_type": "stream",
     "text": [
      "Madrid\n",
      "París\n",
      "Tokio\n"
     ]
    }
   ],
   "source": [
    "for idx in arr_dic[\"ciudad\"]:\n",
    "    print(idx)"
   ]
  }
 ],
 "metadata": {
  "interpreter": {
   "hash": "c85384e4cb51c8b72350f3a8712cc8351fdc3955e32a27f9b60c6242ab125f01"
  },
  "kernelspec": {
   "display_name": "Python 3 (ipykernel)",
   "language": "python",
   "name": "python3"
  },
  "language_info": {
   "codemirror_mode": {
    "name": "ipython",
    "version": 3
   },
   "file_extension": ".py",
   "mimetype": "text/x-python",
   "name": "python",
   "nbconvert_exporter": "python",
   "pygments_lexer": "ipython3",
   "version": "3.10.12"
  }
 },
 "nbformat": 4,
 "nbformat_minor": 4
}
