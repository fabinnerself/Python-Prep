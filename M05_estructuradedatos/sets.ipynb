{
 "cells": [
  {
   "cell_type": "code",
   "execution_count": 1,
   "metadata": {},
   "outputs": [
    {
     "name": "stdout",
     "output_type": "stream",
     "text": [
      "{1, 2, 3, 4, 5, 6}\n",
      "{1, 3, 4, 5, 6}\n",
      "{1, 2, 3, 4, 5}\n",
      "{3}\n",
      "{1, 2}\n",
      "{1, 2, 4, 5}\n"
     ]
    }
   ],
   "source": [
    "# Crear un conjunto\n",
    "my_set = {1, 2, 3, 4, 5}\n",
    "\n",
    "# Agregar elementos al conjunto\n",
    "my_set.add(6)\n",
    "print(my_set)  # Resultado esperado: {1, 2, 3, 4, 5, 6}\n",
    "\n",
    "# Eliminar elementos del conjunto\n",
    "my_set.remove(2)\n",
    "print(my_set)  # Resultado esperado: {1, 3, 4, 5, 6}\n",
    "\n",
    "# Realizar operaciones de conjuntos\n",
    "set1 = {1, 2, 3}\n",
    "set2 = {3, 4, 5}  # Corregido la sintaxis del conjunto\n",
    "\n",
    "union = set1 | set2\n",
    "print(union)  # Resultado esperado: {1, 2, 3, 4, 5}\n",
    "\n",
    "interseccion = set1 & set2\n",
    "print(interseccion)  # Resultado esperado: {3}\n",
    "\n",
    "diferencia = set1 - set2\n",
    "print(diferencia)  # Resultado esperado: {1, 2}\n",
    "\n",
    "diferencia_simetrica = set1 ^ set2\n",
    "print(diferencia_simetrica)  # Resultado esperado: {1, 2, 4, 5}"
   ]
  }
 ],
 "metadata": {
  "kernelspec": {
   "display_name": "Python 3",
   "language": "python",
   "name": "python3"
  },
  "language_info": {
   "codemirror_mode": {
    "name": "ipython",
    "version": 3
   },
   "file_extension": ".py",
   "mimetype": "text/x-python",
   "name": "python",
   "nbconvert_exporter": "python",
   "pygments_lexer": "ipython3",
   "version": "3.10.12"
  }
 },
 "nbformat": 4,
 "nbformat_minor": 2
}
